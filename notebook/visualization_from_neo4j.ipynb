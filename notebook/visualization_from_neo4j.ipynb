{
 "cells": [
  {
   "cell_type": "code",
   "execution_count": 1,
   "metadata": {
    "ExecuteTime": {
     "end_time": "2023-05-26T07:20:22.119528300Z",
     "start_time": "2023-05-26T07:20:21.002439300Z"
    }
   },
   "outputs": [],
   "source": [
    "from neo4j import GraphDatabase\n",
    "from yfiles_jupyter_graphs import GraphWidget"
   ]
  },
  {
   "cell_type": "code",
   "execution_count": 2,
   "metadata": {
    "ExecuteTime": {
     "end_time": "2023-05-26T07:20:23.664123600Z",
     "start_time": "2023-05-26T07:20:23.661121900Z"
    }
   },
   "outputs": [],
   "source": [
    "uri = \"bolt://localhost:7687\" \n",
    "user = \"neo4j\"  \n",
    "password = \"12345678\"\n",
    "\n",
    "driver = GraphDatabase.driver(uri=uri,auth=(user,password),database='neo4j')\n",
    "session = driver.session(database='neo4j')"
   ]
  },
  {
   "cell_type": "code",
   "execution_count": 3,
   "metadata": {
    "ExecuteTime": {
     "end_time": "2023-05-26T07:20:31.236412700Z",
     "start_time": "2023-05-26T07:20:27.956649Z"
    }
   },
   "outputs": [
    {
     "data": {
      "text/plain": "GraphWidget(layout=Layout(height='500px', width='100%'))",
      "application/vnd.jupyter.widget-view+json": {
       "version_major": 2,
       "version_minor": 0,
       "model_id": "d5f2f50962404166b52bf827e656a376"
      }
     },
     "metadata": {},
     "output_type": "display_data"
    }
   ],
   "source": [
    "\n",
    "result = session.run(\"MATCH (s)-[r]->(t) RETURN s,r,t LIMIT 100\")\n",
    "\n",
    "w = GraphWidget(graph = result.graph())\n",
    "\n",
    "w.show()"
   ]
  },
  {
   "cell_type": "code",
   "execution_count": 4,
   "metadata": {
    "ExecuteTime": {
     "end_time": "2023-05-26T07:20:38.276746900Z",
     "start_time": "2023-05-26T07:20:38.171219700Z"
    }
   },
   "outputs": [
    {
     "data": {
      "text/plain": "GraphWidget(layout=Layout(height='500px', width='100%'))",
      "application/vnd.jupyter.widget-view+json": {
       "version_major": 2,
       "version_minor": 0,
       "model_id": "873354d249fa4965a287e395746f3034"
      }
     },
     "metadata": {},
     "output_type": "display_data"
    }
   ],
   "source": [
    "result = session.run(\"MATCH (m:Movie {id:'1'}), (n:Movie {id:'2'}) MATCH (n)-[r:RATED]-(u:User)-[q:RATED]-(m) RETURN m, n, u, r, q LIMIT 10\")\n",
    "\n",
    "w = GraphWidget(graph = result.graph())\n",
    "\n",
    "w.show()"
   ]
  },
  {
   "cell_type": "code",
   "execution_count": null,
   "metadata": {},
   "outputs": [],
   "source": []
  }
 ],
 "metadata": {
  "kernelspec": {
   "display_name": "Python 3",
   "language": "python",
   "name": "python3"
  },
  "language_info": {
   "codemirror_mode": {
    "name": "ipython",
    "version": 3
   },
   "file_extension": ".py",
   "mimetype": "text/x-python",
   "name": "python",
   "nbconvert_exporter": "python",
   "pygments_lexer": "ipython3",
   "version": "3.10.10"
  },
  "orig_nbformat": 4
 },
 "nbformat": 4,
 "nbformat_minor": 2
}

{
 "cells": [
  {
   "cell_type": "code",
   "execution_count": 1,
   "metadata": {},
   "outputs": [],
   "source": [
    "from graphdatascience import GraphDataScience\n",
    "from neo4j import GraphDatabase\n",
    "from yfiles_jupyter_graphs import GraphWidget"
   ]
  },
  {
   "cell_type": "code",
   "execution_count": 11,
   "metadata": {
    "ExecuteTime": {
     "end_time": "2023-05-26T07:20:01.190881900Z",
     "start_time": "2023-05-26T07:20:01.113877900Z"
    }
   },
   "outputs": [],
   "source": [
    "uri = \"bolt://localhost:7687\" \n",
    "user = \"neo4j\"  \n",
    "password = \"12345678\"\n",
    "driver = GraphDatabase.driver(uri=uri,auth=(user,password),database='neo4j')\n",
    "session = driver.session(database='neo4j')"
   ]
  },
  {
   "attachments": {},
   "cell_type": "markdown",
   "metadata": {},
   "source": [
    "### Visualize the graph"
   ]
  },
  {
   "cell_type": "code",
   "execution_count": 3,
   "metadata": {},
   "outputs": [
    {
     "data": {
      "application/vnd.jupyter.widget-view+json": {
       "model_id": "d63e010934d6432b8b8745b5a6f461bc",
       "version_major": 2,
       "version_minor": 0
      },
      "text/plain": [
       "GraphWidget(layout=Layout(height='500px', width='100%'))"
      ]
     },
     "metadata": {},
     "output_type": "display_data"
    }
   ],
   "source": [
    "\n",
    "result = session.run(\"CALL db.schema.visualization()\")\n",
    "w = GraphWidget(graph = result.graph())\n",
    "w.show()"
   ]
  },
  {
   "attachments": {},
   "cell_type": "markdown",
   "metadata": {},
   "source": [
    "### 1: Graph creation"
   ]
  },
  {
   "cell_type": "code",
   "execution_count": 4,
   "metadata": {},
   "outputs": [
    {
     "data": {
      "text/plain": [
       "<neo4j._sync.work.result.Result at 0x2a0bbbcb880>"
      ]
     },
     "execution_count": 4,
     "metadata": {},
     "output_type": "execute_result"
    }
   ],
   "source": [
    "session.run('''\n",
    "CALL gds.graph.project(\n",
    "  'ratings',\n",
    "  ['User','Movie'],\n",
    "  {\n",
    "    RATED: {\n",
    "      orientation: 'UNDIRECTED',\n",
    "      properties: 'rating'\n",
    "    }\n",
    "  }\n",
    ")\n",
    "''')"
   ]
  },
  {
   "attachments": {},
   "cell_type": "markdown",
   "metadata": {},
   "source": [
    "### 2: Node embedding"
   ]
  },
  {
   "cell_type": "code",
   "execution_count": 5,
   "metadata": {},
   "outputs": [
    {
     "data": {
      "text/plain": [
       "<neo4j._sync.work.result.Result at 0x2a0d06898d0>"
      ]
     },
     "execution_count": 5,
     "metadata": {},
     "output_type": "execute_result"
    }
   ],
   "source": [
    "session.run('''\n",
    "CALL gds.fastRP.mutate('ratings',\n",
    "  {\n",
    "    embeddingDimension: 512,\n",
    "    randomSeed: 7474,\n",
    "    mutateProperty: 'embedding',\n",
    "    relationshipWeightProperty: 'rating',\n",
    "    iterationWeights: [0.8, 1, 1, 1]\n",
    "  }\n",
    ")\n",
    "YIELD nodePropertiesWritten\n",
    "return nodePropertiesWritten\n",
    "''')"
   ]
  },
  {
   "attachments": {},
   "cell_type": "markdown",
   "metadata": {},
   "source": [
    "### 3: Node similarity with KNN"
   ]
  },
  {
   "cell_type": "code",
   "execution_count": 5,
   "metadata": {},
   "outputs": [
    {
     "name": "stdout",
     "output_type": "stream",
     "text": [
      "   nodesCompared  relationshipsWritten  meanSimilarity\n",
      "0          10352                 51760        0.964479\n"
     ]
    }
   ],
   "source": [
    "result = session.run('''\n",
    "    CALL gds.knn.write('ratings', {\n",
    "    topK: 5,\n",
    "    nodeProperties: ['embedding'],\n",
    "    randomSeed: 42,\n",
    "    concurrency: 1,\n",
    "    sampleRate: 1.0,\n",
    "    deltaThreshold: 0.0,\n",
    "    writeRelationshipType: \"SIMILAR\",\n",
    "    writeProperty: \"score\"\n",
    "})\n",
    "YIELD nodesCompared, relationshipsWritten, similarityDistribution\n",
    "RETURN nodesCompared, relationshipsWritten, similarityDistribution.mean as meanSimilarity\n",
    "''').to_df()\n",
    "print(result)"
   ]
  },
  {
   "attachments": {},
   "cell_type": "markdown",
   "metadata": {},
   "source": [
    "### 4: Explore the graph. Print similar users"
   ]
  },
  {
   "cell_type": "code",
   "execution_count": 6,
   "metadata": {},
   "outputs": [
    {
     "name": "stdout",
     "output_type": "stream",
     "text": [
      "    person1  person2  similarity\n",
      "0   user126  user379    0.989789\n",
      "1   user379  user126    0.989789\n",
      "2   user130  user574    0.987911\n",
      "3   user574  user130    0.987911\n",
      "4   user130  user468    0.985707\n",
      "..      ...      ...         ...\n",
      "95    user8   user94    0.978030\n",
      "96   user56  user126    0.977922\n",
      "97  user446    user8    0.977781\n",
      "98    user8  user446    0.977781\n",
      "99  user458  user470    0.977739\n",
      "\n",
      "[100 rows x 3 columns]\n"
     ]
    }
   ],
   "source": [
    "similar_user = session.run('''\n",
    "    MATCH (n:User)-[r:SIMILAR]->(m:User)\n",
    "    RETURN n.id as person1, m.id as person2, r.score as similarity\n",
    "    ORDER BY similarity DESCENDING, person1, person2 limit 100\n",
    "''').to_df()\n",
    "print(similar_user)"
   ]
  },
  {
   "attachments": {},
   "cell_type": "markdown",
   "metadata": {},
   "source": [
    "### 5: Make moive recommendations by user KNN"
   ]
  },
  {
   "cell_type": "code",
   "execution_count": 7,
   "metadata": {},
   "outputs": [
    {
     "name": "stdout",
     "output_type": "stream",
     "text": [
      "    userId                       movieTitle movieId\n",
      "0  user379             Beauty and the Beast     595\n",
      "1  user379        Silence of the Lambs, The     593\n",
      "2  user379              Legends of the Fall     266\n",
      "3  user379                         Clueless      39\n",
      "4  user379  Dumb & Dumber (Dumb and Dumber)     231\n",
      "5  user379             Natural Born Killers     288\n",
      "6  user379                        Quiz Show     300\n",
      "7  user379           Star Trek: Generations     329\n",
      "8  user379             Addams Family Values     410\n",
      "9  user379                          Aladdin     588\n"
     ]
    }
   ],
   "source": [
    "query = '''\n",
    "MATCH (u:User {id: 'user379'})\n",
    "MATCH (u)-[r1:SIMILAR]->(similarUser)-[r2:RATED]->(m:Movie)\n",
    "WHERE NOT EXISTS((u)-[:RATED]->(m))\n",
    "RETURN u.id AS userId, m.title AS movieTitle, m.id AS movieId\n",
    "LIMIT 10\n",
    "'''\n",
    "result = session.run(query)\n",
    "print(result.to_df())"
   ]
  },
  {
   "attachments": {},
   "cell_type": "markdown",
   "metadata": {},
   "source": [
    "#### visualize the graph"
   ]
  },
  {
   "cell_type": "code",
   "execution_count": 10,
   "metadata": {},
   "outputs": [
    {
     "data": {
      "application/vnd.jupyter.widget-view+json": {
       "model_id": "b39786e325194c4d933fc4f6e9aadd49",
       "version_major": 2,
       "version_minor": 0
      },
      "text/plain": [
       "GraphWidget(layout=Layout(height='500px', width='100%'))"
      ]
     },
     "metadata": {},
     "output_type": "display_data"
    }
   ],
   "source": [
    "query = '''\n",
    "MATCH (u:User {id: 'user5'})\n",
    "MATCH (u)-[r1:SIMILAR]->(similarUser)-[r2:RATED]->(m:Movie)\n",
    "WHERE NOT EXISTS((u)-[:RATED]->(m))\n",
    "RETURN u, similarUser, m, r1, r2\n",
    "LIMIT 10\n",
    "'''\n",
    "result = session.run(query)\n",
    "widget = GraphWidget(graph = result.graph())\n",
    "widget.show()"
   ]
  },
  {
   "attachments": {},
   "cell_type": "markdown",
   "metadata": {},
   "source": [
    "### 6: Recommendation by movie KNN"
   ]
  },
  {
   "cell_type": "code",
   "execution_count": 8,
   "metadata": {},
   "outputs": [
    {
     "name": "stdout",
     "output_type": "stream",
     "text": [
      "  MovieId                            movieTitle     score\n",
      "0   60069                                WALL·E  0.976485\n",
      "1   72998                                Avatar  0.974298\n",
      "2   59315                              Iron Man  0.969230\n",
      "3   58559                      Dark Knight, The  0.967764\n",
      "4   79132                             Inception  0.967023\n",
      "5   76093              How to Train Your Dragon  0.964197\n",
      "6   81845                    King's Speech, The  0.962040\n",
      "7   64957  Curious Case of Benjamin Button, The  0.956786\n",
      "8   92259                          Intouchables  0.942228\n",
      "9   96821      Perks of Being a Wallflower, The  0.941262\n"
     ]
    }
   ],
   "source": [
    "query = '''\n",
    "MATCH (targetMovie:Movie {id: '68954'})\n",
    "MATCH (targetMovie)-[similarity:SIMILAR]-(similarMovie:Movie)\n",
    "WHERE similarMovie.id <> targetMovie.id\n",
    "RETURN DISTINCT similarMovie.id AS MovieId, similarMovie.title AS movieTitle , similarity.score AS score\n",
    "ORDER BY similarity.score DESC\n",
    "LIMIT 10\n",
    "'''\n",
    "result = session.run(query)\n",
    "print(result.to_df())"
   ]
  },
  {
   "attachments": {},
   "cell_type": "markdown",
   "metadata": {},
   "source": [
    "#### Visualize the graph"
   ]
  },
  {
   "cell_type": "code",
   "execution_count": 9,
   "metadata": {},
   "outputs": [
    {
     "data": {
      "application/vnd.jupyter.widget-view+json": {
       "model_id": "ec46e291e29444238c77861768b941d8",
       "version_major": 2,
       "version_minor": 0
      },
      "text/plain": [
       "GraphWidget(layout=Layout(height='500px', width='100%'))"
      ]
     },
     "metadata": {},
     "output_type": "display_data"
    }
   ],
   "source": [
    "query = '''\n",
    "MATCH (targetMovie:Movie {id: '68954'})\n",
    "MATCH (targetMovie)-[similarity:SIMILAR]-(similarMovie:Movie)\n",
    "WHERE similarMovie.id <> targetMovie.id\n",
    "RETURN DISTINCT targetMovie, similarMovie, similarity\n",
    "ORDER BY similarity.score DESC\n",
    "LIMIT 12\n",
    "'''\n",
    "result = session.run(query)\n",
    "widget = GraphWidget(graph = result.graph())\n",
    "widget.show()"
   ]
  },
  {
   "attachments": {},
   "cell_type": "markdown",
   "metadata": {},
   "source": [
    "#### 7: Recommendation for user PageRank"
   ]
  },
  {
   "cell_type": "code",
   "execution_count": 5,
   "metadata": {},
   "outputs": [
    {
     "name": "stdout",
     "output_type": "stream",
     "text": [
      "   nodePropertiesWritten  ranIterations\n",
      "0                  10352              2\n"
     ]
    }
   ],
   "source": [
    "query = '''\n",
    "CALL gds.pageRank.write('pagerank', {\n",
    "  maxIterations: 20,\n",
    "  dampingFactor: 0.85,\n",
    "  writeProperty: 'pagerank'\n",
    "})\n",
    "YIELD nodePropertiesWritten, ranIterations\n",
    "'''\n",
    "result = session.run(query)\n",
    "print(result.to_df())"
   ]
  },
  {
   "cell_type": "code",
   "execution_count": 8,
   "metadata": {},
   "outputs": [
    {
     "name": "stdout",
     "output_type": "stream",
     "text": [
      "                       recommendation  pagerank\n",
      "0           Shawshank Redemption, The  0.715753\n",
      "1                        Forrest Gump  0.665880\n",
      "2                        Pulp Fiction  0.633543\n",
      "3           Silence of the Lambs, The  0.597565\n",
      "4                         Matrix, The  0.558928\n",
      "5                          Braveheart  0.542864\n",
      "6                    Schindler's List  0.522938\n",
      "7  Star Wars: Episode IV - A New Hope  0.495535\n",
      "8                       Jurassic Park  0.486429\n",
      "9                           Apollo 13  0.481814\n"
     ]
    }
   ],
   "source": [
    "query = '''\n",
    "// Retrieve the top-ranked movie recommendation for a specific user\n",
    "MATCH (u:User {id: 'user127'})\n",
    "\n",
    "// Find unrated movies and their PageRank scores\n",
    "MATCH (unratedMovie:Movie)\n",
    "WHERE NOT EXISTS((u)-[:RATED]->(unratedMovie))\n",
    "RETURN unratedMovie.title AS recommendation, unratedMovie.pagerank as pagerank\n",
    "ORDER BY unratedMovie.pagerank DESC\n",
    "LIMIT 10;\n",
    "'''\n",
    "result = session.run(query)\n",
    "print(result.to_df())"
   ]
  },
  {
   "attachments": {},
   "cell_type": "markdown",
   "metadata": {},
   "source": [
    "#### 00: Recommendation by KNN + PageRank Algorithm"
   ]
  },
  {
   "cell_type": "code",
   "execution_count": 6,
   "metadata": {},
   "outputs": [],
   "source": [
    "query = '''\n",
    "CALL gds.graph.project(\n",
    "  \t'pagerank_collab',\n",
    "  \t['Movie', 'Movie'],\n",
    "  \t'SIMILAR',\n",
    "  {\n",
    "   \t relationshipProperties: {\n",
    "      \tscore: {\n",
    "        \tproperty: 'score',\n",
    "        \tdefaultValue: 0.0\n",
    "      }\n",
    "    }\n",
    "  }\n",
    ");\n",
    "'''\n",
    "result = session.run(query)\n"
   ]
  },
  {
   "cell_type": "code",
   "execution_count": 14,
   "metadata": {},
   "outputs": [
    {
     "name": "stdout",
     "output_type": "stream",
     "text": [
      "  movieId              movieTitle     score\n",
      "0   58559        Dark Knight, The  0.072987\n",
      "1   59315                Iron Man  0.072758\n",
      "2   79132               Inception  0.058580\n",
      "3   72998                  Avatar  0.054995\n",
      "4   60069                  WALL·E  0.040782\n",
      "5   89745           Avengers, The  0.033818\n",
      "6   91529  Dark Knight Rises, The  0.031183\n",
      "7   77561              Iron Man 2  0.025844\n",
      "8   99114        Django Unchained  0.024425\n",
      "9   68157    Inglourious Basterds  0.021537\n"
     ]
    }
   ],
   "source": [
    "query = '''\n",
    "    MATCH (src1:Movie {id: $movieid})\n",
    "    CALL gds.pageRank.stream('pagerank_collab', {\n",
    "    maxIterations: 20,\n",
    "    dampingFactor: 0.85,\n",
    "    sourceNodes: [src1],\n",
    "    relationshipTypes: ['SIMILAR'],\n",
    "    relationshipWeightProperty: 'score'\n",
    "    })\n",
    "    YIELD nodeId, score\n",
    "    WHERE gds.util.asNode(nodeId).id <> src1.id\n",
    "    WITH gds.util.asNode(nodeId) AS movie, score\n",
    "    RETURN movie.id AS movieId, movie.title AS movieTitle, score\n",
    "    ORDER BY score DESC\n",
    "    LIMIT $n;\n",
    "'''\n",
    "result = session.run(query, movieid='68954', n=10)\n",
    "print(result.to_df())"
   ]
  },
  {
   "attachments": {},
   "cell_type": "markdown",
   "metadata": {},
   "source": [
    "#### Delete SIMILAR relationship"
   ]
  },
  {
   "cell_type": "code",
   "execution_count": 15,
   "metadata": {},
   "outputs": [],
   "source": [
    "# query = '''\n",
    "#     MATCH ()-[r:SIMILAR]->()  \n",
    "#     DELETE r   \n",
    "# '''\n",
    "# result = session.run(query)\n",
    "# print(result.to_df())"
   ]
  }
 ],
 "metadata": {
  "kernelspec": {
   "display_name": "Python 3",
   "language": "python",
   "name": "python3"
  },
  "language_info": {
   "codemirror_mode": {
    "name": "ipython",
    "version": 3
   },
   "file_extension": ".py",
   "mimetype": "text/x-python",
   "name": "python",
   "nbconvert_exporter": "python",
   "pygments_lexer": "ipython3",
   "version": "3.10.10"
  }
 },
 "nbformat": 4,
 "nbformat_minor": 1
}

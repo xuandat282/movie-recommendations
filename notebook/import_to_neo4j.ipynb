{
 "cells": [
  {
   "attachments": {},
   "cell_type": "markdown",
   "metadata": {},
   "source": [
    "## IMPORTING DATA INTO NEO4J\n"
   ]
  },
  {
   "cell_type": "code",
   "execution_count": 11,
   "metadata": {},
   "outputs": [],
   "source": [
    "import csv\n",
    "from py2neo import Graph, Node"
   ]
  },
  {
   "cell_type": "code",
   "execution_count": 12,
   "metadata": {},
   "outputs": [],
   "source": [
    "N_MOVIES = 9742\n",
    "N_RATINGS = 100836\n",
    "N_LINKS = 3683\n",
    "# N_MOVIES = 1000\n",
    "# N_RATINGS = 1000\n",
    "# N_LINKS = 1000"
   ]
  },
  {
   "cell_type": "code",
   "execution_count": 13,
   "metadata": {},
   "outputs": [],
   "source": [
    "PORT = 7687\n",
    "USER = \"neo4j\"\n",
    "PASS = \"12345678\"\n",
    "graph = Graph(\"bolt://\" + \":7687\", auth=(USER, PASS))\n"
   ]
  },
  {
   "cell_type": "code",
   "execution_count": 14,
   "metadata": {},
   "outputs": [],
   "source": [
    "def loadMovies():\n",
    "    with open('data/movies.csv', encoding='utf8') as csvfile:\n",
    "        readCSV = csv.reader(csvfile, delimiter=',')\n",
    "        next(readCSV, None)  # skip header\n",
    "        for i, row in enumerate(readCSV):\n",
    "\n",
    "            createMovieNodes(row)\n",
    "            if (i % 1000 == 0):\n",
    "                print(f\"{i}/{N_MOVIES} Movie nodes created\")\n",
    "\n",
    "            # break after N_MOVIES movies\n",
    "\n",
    "            if i >= N_MOVIES:\n",
    "                break\n",
    "\n",
    "def createMovieNodes(row):\n",
    "    movieData = parseRowMovie(row)\n",
    "    id = movieData[0]\n",
    "    title = movieData[1]\n",
    "    year = movieData[2]\n",
    "    genres = movieData[3]\n",
    "    mov = Node(\"Movie\", id=id, title=title, year=year, genres=genres)\n",
    "    graph.create(mov)\n",
    "\n",
    "def parseRowMovie(row):\n",
    "        id = row[0]\n",
    "        year = row[1][-5:-1]\n",
    "        title = row[1][:-7]\n",
    "        genres = row[2]\n",
    "\n",
    "        return (id, title, year, genres)"
   ]
  },
  {
   "cell_type": "code",
   "execution_count": 15,
   "metadata": {},
   "outputs": [],
   "source": [
    "def loadRatings():\n",
    "    with open('data/ratings.csv') as csvfile:\n",
    "         readCSV = csv.reader(csvfile, delimiter=',')\n",
    "         next(readCSV, None) #skip header\n",
    "         for i,row in enumerate(readCSV):\n",
    "             createUserNodes(row)\n",
    "             createRatingRelationship(row)\n",
    "\n",
    "             if (i % 1000 == 0):\n",
    "                 print(f\"{i}/{N_RATINGS} Rating relationships created\")\n",
    "\n",
    "             if (i >= N_RATINGS):\n",
    "                 break\n",
    "def createUserNodes(row):\n",
    "    user = Node(\"User\", id=\"user\" + row[0])\n",
    "    graph.merge(user, \"User\", \"id\")\n",
    "\n",
    "def createRatingRelationship(row):\n",
    "    ratingData = parseRowRatingRelationships(row)\n",
    "\n",
    "    graph.run(\n",
    "        'MATCH (u:User {id: $userId}), (m:Movie {id: $movieId}) CREATE (u)-[:RATED { rating: $rating, timestamp: $timestamp }]->(m)',\n",
    "        userId=ratingData[0], movieId=ratingData[1], rating=ratingData[2], timestamp=ratingData[3])\n",
    "\n",
    "def parseRowRatingRelationships(row):\n",
    "    userId = \"user\" + row[0]\n",
    "    movieId = row[1]\n",
    "    rating = float(row[2])\n",
    "    timestamp = row[3]\n",
    "\n",
    "    return (userId, movieId, rating, timestamp)"
   ]
  },
  {
   "cell_type": "code",
   "execution_count": 16,
   "metadata": {},
   "outputs": [],
   "source": [
    "def loadLinks():\n",
    "    with open('data/links.csv') as csvfile:\n",
    "        readCSV = csv.reader(csvfile, delimiter=',')\n",
    "        next(readCSV, None)  # skip header\n",
    "        for i, row in enumerate(readCSV):\n",
    "\n",
    "            updateMovieNodeWithLinks(row)\n",
    "\n",
    "            if (i % 1000 == 0):\n",
    "                print(f\"{i}/{N_LINKS} Movie nodes updated with links\")\n",
    "\n",
    "            # break after N_LINKS movies\n",
    "\n",
    "            if i >= N_LINKS:\n",
    "                break\n",
    "\n",
    "def updateMovieNodeWithLinks(row):\n",
    "    linkData = parseRowLinks(row)\n",
    "\n",
    "    graph.run(\n",
    "        'MATCH (m:Movie {id: $movieId}) SET m += { imdbId: $imdbId , tmdbId: $tmdbId }',\n",
    "        movieId=linkData[0], imdbId=linkData[1], tmdbId=linkData[2])\n",
    "\n",
    "def parseRowLinks(row):\n",
    "    movieId = row[0]\n",
    "    imdbId = row[1]\n",
    "    tmdbId = row[2]\n",
    "\n",
    "    return (movieId, imdbId, tmdbId)"
   ]
  },
  {
   "attachments": {},
   "cell_type": "markdown",
   "metadata": {},
   "source": [
    "### Start importing data into Neo4j"
   ]
  },
  {
   "cell_type": "code",
   "execution_count": 17,
   "metadata": {},
   "outputs": [
    {
     "name": "stdout",
     "output_type": "stream",
     "text": [
      "Step 1 out of 3: loading movie nodes\n",
      "0/9742 Movie nodes created\n",
      "1000/9742 Movie nodes created\n",
      "2000/9742 Movie nodes created\n",
      "3000/9742 Movie nodes created\n",
      "4000/9742 Movie nodes created\n",
      "5000/9742 Movie nodes created\n",
      "6000/9742 Movie nodes created\n",
      "7000/9742 Movie nodes created\n",
      "8000/9742 Movie nodes created\n",
      "9000/9742 Movie nodes created\n",
      "Step 2 out of 3: loading rating relationships\n",
      "0/100836 Rating relationships created\n",
      "1000/100836 Rating relationships created\n",
      "2000/100836 Rating relationships created\n",
      "3000/100836 Rating relationships created\n",
      "4000/100836 Rating relationships created\n",
      "5000/100836 Rating relationships created\n",
      "6000/100836 Rating relationships created\n",
      "7000/100836 Rating relationships created\n",
      "8000/100836 Rating relationships created\n",
      "9000/100836 Rating relationships created\n",
      "10000/100836 Rating relationships created\n",
      "11000/100836 Rating relationships created\n",
      "12000/100836 Rating relationships created\n",
      "13000/100836 Rating relationships created\n",
      "14000/100836 Rating relationships created\n",
      "15000/100836 Rating relationships created\n",
      "16000/100836 Rating relationships created\n",
      "17000/100836 Rating relationships created\n",
      "18000/100836 Rating relationships created\n",
      "19000/100836 Rating relationships created\n",
      "20000/100836 Rating relationships created\n",
      "21000/100836 Rating relationships created\n",
      "22000/100836 Rating relationships created\n",
      "23000/100836 Rating relationships created\n",
      "24000/100836 Rating relationships created\n",
      "25000/100836 Rating relationships created\n",
      "26000/100836 Rating relationships created\n",
      "27000/100836 Rating relationships created\n",
      "28000/100836 Rating relationships created\n",
      "29000/100836 Rating relationships created\n",
      "30000/100836 Rating relationships created\n",
      "31000/100836 Rating relationships created\n",
      "32000/100836 Rating relationships created\n",
      "33000/100836 Rating relationships created\n",
      "34000/100836 Rating relationships created\n",
      "35000/100836 Rating relationships created\n",
      "36000/100836 Rating relationships created\n",
      "37000/100836 Rating relationships created\n",
      "38000/100836 Rating relationships created\n",
      "39000/100836 Rating relationships created\n",
      "40000/100836 Rating relationships created\n",
      "41000/100836 Rating relationships created\n",
      "42000/100836 Rating relationships created\n",
      "43000/100836 Rating relationships created\n",
      "44000/100836 Rating relationships created\n",
      "45000/100836 Rating relationships created\n",
      "46000/100836 Rating relationships created\n",
      "47000/100836 Rating relationships created\n",
      "48000/100836 Rating relationships created\n",
      "49000/100836 Rating relationships created\n",
      "50000/100836 Rating relationships created\n",
      "51000/100836 Rating relationships created\n",
      "52000/100836 Rating relationships created\n",
      "53000/100836 Rating relationships created\n",
      "54000/100836 Rating relationships created\n",
      "55000/100836 Rating relationships created\n",
      "56000/100836 Rating relationships created\n",
      "57000/100836 Rating relationships created\n",
      "58000/100836 Rating relationships created\n",
      "59000/100836 Rating relationships created\n",
      "60000/100836 Rating relationships created\n",
      "61000/100836 Rating relationships created\n",
      "62000/100836 Rating relationships created\n",
      "63000/100836 Rating relationships created\n",
      "64000/100836 Rating relationships created\n",
      "65000/100836 Rating relationships created\n",
      "66000/100836 Rating relationships created\n",
      "67000/100836 Rating relationships created\n",
      "68000/100836 Rating relationships created\n",
      "69000/100836 Rating relationships created\n",
      "70000/100836 Rating relationships created\n",
      "71000/100836 Rating relationships created\n",
      "72000/100836 Rating relationships created\n",
      "73000/100836 Rating relationships created\n",
      "74000/100836 Rating relationships created\n",
      "75000/100836 Rating relationships created\n",
      "76000/100836 Rating relationships created\n",
      "77000/100836 Rating relationships created\n",
      "78000/100836 Rating relationships created\n",
      "79000/100836 Rating relationships created\n",
      "80000/100836 Rating relationships created\n",
      "81000/100836 Rating relationships created\n",
      "82000/100836 Rating relationships created\n",
      "83000/100836 Rating relationships created\n",
      "84000/100836 Rating relationships created\n",
      "85000/100836 Rating relationships created\n",
      "86000/100836 Rating relationships created\n",
      "87000/100836 Rating relationships created\n",
      "88000/100836 Rating relationships created\n",
      "89000/100836 Rating relationships created\n",
      "90000/100836 Rating relationships created\n",
      "91000/100836 Rating relationships created\n",
      "92000/100836 Rating relationships created\n",
      "93000/100836 Rating relationships created\n",
      "94000/100836 Rating relationships created\n",
      "95000/100836 Rating relationships created\n",
      "96000/100836 Rating relationships created\n",
      "97000/100836 Rating relationships created\n",
      "98000/100836 Rating relationships created\n",
      "99000/100836 Rating relationships created\n",
      "100000/100836 Rating relationships created\n",
      "Step 3 out of 3: updating links to movie nodes\n",
      "0/3683 Movie nodes updated with links\n",
      "1000/3683 Movie nodes updated with links\n",
      "2000/3683 Movie nodes updated with links\n",
      "3000/3683 Movie nodes updated with links\n"
     ]
    }
   ],
   "source": [
    "print(\"Step 1 out of 3: loading movie nodes\")\n",
    "loadMovies()\n",
    "\n",
    "print(\"Step 2 out of 3: loading rating relationships\")\n",
    "loadRatings()\n",
    "\n",
    "print(\"Step 3 out of 3: updating links to movie nodes\")\n",
    "loadLinks()"
   ]
  },
  {
   "attachments": {},
   "cell_type": "markdown",
   "metadata": {},
   "source": [
    "### GET SOME DATA AND VISUALIZE IT"
   ]
  },
  {
   "cell_type": "code",
   "execution_count": 18,
   "metadata": {},
   "outputs": [],
   "source": [
    "from neo4j import GraphDatabase\n",
    "from yfiles_jupyter_graphs import GraphWidget"
   ]
  },
  {
   "cell_type": "code",
   "execution_count": 19,
   "metadata": {},
   "outputs": [
    {
     "name": "stderr",
     "output_type": "stream",
     "text": [
      "Failed to write data to connection IPv4Address(('localhost', 7687)) (IPv4Address(('127.0.0.1', 7687)))\n"
     ]
    }
   ],
   "source": [
    "uri = \"bolt://localhost:7687\" \n",
    "user = \"neo4j\"  \n",
    "password = \"12345678\"\n",
    "\n",
    "driver = GraphDatabase.driver(uri=uri,auth=(user,password),database='neo4j')\n",
    "session = driver.session(database='neo4j')"
   ]
  },
  {
   "cell_type": "code",
   "execution_count": 20,
   "metadata": {},
   "outputs": [
    {
     "data": {
      "application/vnd.jupyter.widget-view+json": {
       "model_id": "0e15b0d330b2461f9c06d3e24778b2a4",
       "version_major": 2,
       "version_minor": 0
      },
      "text/plain": [
       "GraphWidget(layout=Layout(height='500px', width='100%'))"
      ]
     },
     "metadata": {},
     "output_type": "display_data"
    }
   ],
   "source": [
    "\n",
    "result = session.run(\"MATCH (m)-[r]->(t) RETURN m,r,t LIMIT 100\")\n",
    "\n",
    "w = GraphWidget(graph = result.graph())\n",
    "\n",
    "w.show()"
   ]
  }
 ],
 "metadata": {
  "kernelspec": {
   "display_name": "Python 3",
   "language": "python",
   "name": "python3"
  },
  "language_info": {
   "codemirror_mode": {
    "name": "ipython",
    "version": 3
   },
   "file_extension": ".py",
   "mimetype": "text/x-python",
   "name": "python",
   "nbconvert_exporter": "python",
   "pygments_lexer": "ipython3",
   "version": "3.10.10"
  }
 },
 "nbformat": 4,
 "nbformat_minor": 0
}

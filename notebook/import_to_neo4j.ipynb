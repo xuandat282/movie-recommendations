{
 "cells": [
  {
   "attachments": {},
   "cell_type": "markdown",
   "metadata": {},
   "source": [
    "## IMPORTING DATA INTO NEO4J\n"
   ]
  },
  {
   "cell_type": "code",
   "execution_count": 25,
   "metadata": {},
   "outputs": [],
   "source": [
    "import csv\n",
    "from py2neo import Graph, Node"
   ]
  },
  {
   "cell_type": "code",
   "execution_count": 26,
   "metadata": {},
   "outputs": [],
   "source": [
    "N_MOVIES = 9742\n",
    "N_RATINGS = 100836\n",
    "# N_TAGS = 9742\n",
    "N_LINKS = 3683"
   ]
  },
  {
   "cell_type": "code",
   "execution_count": 27,
   "metadata": {},
   "outputs": [],
   "source": [
    "N_MOVIES = 10000\n",
    "N_RATINGS = 10000\n",
    "N_LINKS = 10000"
   ]
  },
  {
   "cell_type": "code",
   "execution_count": 28,
   "metadata": {},
   "outputs": [],
   "source": [
    "PORT = 7687\n",
    "USER = \"neo4j\"\n",
    "PASS = \"12345678\"\n",
    "graph = Graph(\"bolt://\" + \":7687\", auth=(USER, PASS))\n"
   ]
  },
  {
   "cell_type": "code",
   "execution_count": 29,
   "metadata": {},
   "outputs": [],
   "source": [
    "def loadMovies():\n",
    "    with open('data/movies.csv', encoding='utf8') as csvfile:\n",
    "        readCSV = csv.reader(csvfile, delimiter=',')\n",
    "        next(readCSV, None)  # skip header\n",
    "        for i, row in enumerate(readCSV):\n",
    "\n",
    "            createMovieNodes(row)\n",
    "            if (i % 1000 == 0):\n",
    "                print(f\"{i}/{N_MOVIES} Movie nodes created\")\n",
    "\n",
    "            # break after N_MOVIES movies\n",
    "\n",
    "            if i >= N_MOVIES:\n",
    "                break\n",
    "\n",
    "def createMovieNodes(row):\n",
    "    movieData = parseRowMovie(row)\n",
    "    id = movieData[0]\n",
    "    title = movieData[1]\n",
    "    year = movieData[2]\n",
    "    genres = movieData[3]\n",
    "    mov = Node(\"Movie\", id=id, title=title, year=year, genres=genres)\n",
    "    graph.create(mov)\n",
    "\n",
    "def parseRowMovie(row):\n",
    "        id = row[0]\n",
    "        year = row[1][-5:-1]\n",
    "        title = row[1][:-7]\n",
    "        genres = row[2]\n",
    "\n",
    "        return (id, title, year, genres)"
   ]
  },
  {
   "cell_type": "code",
   "execution_count": 30,
   "metadata": {},
   "outputs": [],
   "source": [
    "def loadRatings():\n",
    "    with open('data/ratings.csv') as csvfile:\n",
    "         readCSV = csv.reader(csvfile, delimiter=',')\n",
    "         next(readCSV, None) #skip header\n",
    "         for i,row in enumerate(readCSV):\n",
    "             createUserNodes(row)\n",
    "             createRatingRelationship(row)\n",
    "\n",
    "             if (i % 1000 == 0):\n",
    "                 print(f\"{i}/{N_RATINGS} Rating relationships created\")\n",
    "\n",
    "             if (i >= N_RATINGS):\n",
    "                 break\n",
    "def createUserNodes(row):\n",
    "    user = Node(\"User\", id=\"user\" + row[0])\n",
    "    graph.merge(user, \"User\", \"id\")\n",
    "\n",
    "def createRatingRelationship(row):\n",
    "    ratingData = parseRowRatingRelationships(row)\n",
    "\n",
    "    graph.run(\n",
    "        'MATCH (u:User {id: $userId}), (m:Movie {id: $movieId}) CREATE (u)-[:RATED { rating: $rating, timestamp: $timestamp }]->(m)',\n",
    "        userId=ratingData[0], movieId=ratingData[1], rating=ratingData[2], timestamp=ratingData[3])\n",
    "\n",
    "def parseRowRatingRelationships(row):\n",
    "    userId = \"user\" + row[0]\n",
    "    movieId = row[1]\n",
    "    rating = float(row[2])\n",
    "    timestamp = row[3]\n",
    "\n",
    "    return (userId, movieId, rating, timestamp)"
   ]
  },
  {
   "cell_type": "code",
   "execution_count": 31,
   "metadata": {},
   "outputs": [],
   "source": [
    "def loadLinks():\n",
    "    with open('data/links.csv') as csvfile:\n",
    "        readCSV = csv.reader(csvfile, delimiter=',')\n",
    "        next(readCSV, None)  # skip header\n",
    "        for i, row in enumerate(readCSV):\n",
    "\n",
    "            updateMovieNodeWithLinks(row)\n",
    "\n",
    "            if (i % 1000 == 0):\n",
    "                print(f\"{i}/{N_LINKS} Movie nodes updated with links\")\n",
    "\n",
    "            # break after N_LINKS movies\n",
    "\n",
    "            if i >= N_LINKS:\n",
    "                break\n",
    "\n",
    "def updateMovieNodeWithLinks(row):\n",
    "    linkData = parseRowLinks(row)\n",
    "\n",
    "    graph.run(\n",
    "        'MATCH (m:Movie {id: $movieId}) SET m += { imdbId: $imdbId , tmdbId: $tmdbId }',\n",
    "        movieId=linkData[0], imdbId=linkData[1], tmdbId=linkData[2])\n",
    "\n",
    "def parseRowLinks(row):\n",
    "    movieId = row[0]\n",
    "    imdbId = row[1]\n",
    "    tmdbId = row[2]\n",
    "\n",
    "    return (movieId, imdbId, tmdbId)"
   ]
  },
  {
   "attachments": {},
   "cell_type": "markdown",
   "metadata": {},
   "source": [
    "### Start importing data into Neo4j"
   ]
  },
  {
   "cell_type": "code",
   "execution_count": 32,
   "metadata": {},
   "outputs": [
    {
     "name": "stdout",
     "output_type": "stream",
     "text": [
      "Step 1 out of 3: loading movie nodes\n",
      "0/10000 Movie nodes created\n",
      "1000/10000 Movie nodes created\n",
      "2000/10000 Movie nodes created\n",
      "3000/10000 Movie nodes created\n",
      "4000/10000 Movie nodes created\n",
      "5000/10000 Movie nodes created\n",
      "6000/10000 Movie nodes created\n",
      "7000/10000 Movie nodes created\n",
      "8000/10000 Movie nodes created\n",
      "9000/10000 Movie nodes created\n",
      "Step 2 out of 3: loading rating relationships\n",
      "0/10000 Rating relationships created\n",
      "1000/10000 Rating relationships created\n",
      "2000/10000 Rating relationships created\n",
      "3000/10000 Rating relationships created\n",
      "4000/10000 Rating relationships created\n",
      "5000/10000 Rating relationships created\n",
      "6000/10000 Rating relationships created\n",
      "7000/10000 Rating relationships created\n",
      "8000/10000 Rating relationships created\n",
      "9000/10000 Rating relationships created\n",
      "10000/10000 Rating relationships created\n",
      "Step 3 out of 3: updating links to movie nodes\n",
      "0/10000 Movie nodes updated with links\n",
      "1000/10000 Movie nodes updated with links\n",
      "2000/10000 Movie nodes updated with links\n",
      "3000/10000 Movie nodes updated with links\n",
      "4000/10000 Movie nodes updated with links\n",
      "5000/10000 Movie nodes updated with links\n",
      "6000/10000 Movie nodes updated with links\n",
      "7000/10000 Movie nodes updated with links\n",
      "8000/10000 Movie nodes updated with links\n",
      "9000/10000 Movie nodes updated with links\n"
     ]
    }
   ],
   "source": [
    "print(\"Step 1 out of 3: loading movie nodes\")\n",
    "loadMovies()\n",
    "\n",
    "print(\"Step 2 out of 3: loading rating relationships\")\n",
    "loadRatings()\n",
    "\n",
    "print(\"Step 3 out of 3: updating links to movie nodes\")\n",
    "loadLinks()"
   ]
  },
  {
   "attachments": {},
   "cell_type": "markdown",
   "metadata": {},
   "source": [
    "### GET SOME DATA AND VISUALIZE IT"
   ]
  },
  {
   "cell_type": "code",
   "execution_count": 36,
   "metadata": {},
   "outputs": [],
   "source": [
    "from neo4j import GraphDatabase\n",
    "from yfiles_jupyter_graphs import GraphWidget"
   ]
  },
  {
   "cell_type": "code",
   "execution_count": 37,
   "metadata": {},
   "outputs": [],
   "source": [
    "uri = \"bolt://localhost:7687\" \n",
    "user = \"neo4j\"  \n",
    "password = \"12345678\"\n",
    "\n",
    "driver = GraphDatabase.driver(uri=uri,auth=(user,password),database='neo4j')\n",
    "session = driver.session(database='neo4j')"
   ]
  },
  {
   "cell_type": "code",
   "execution_count": 35,
   "metadata": {},
   "outputs": [
    {
     "data": {
      "application/vnd.jupyter.widget-view+json": {
       "model_id": "b57c41fe62534dcbac608b18649b0621",
       "version_major": 2,
       "version_minor": 0
      },
      "text/plain": [
       "GraphWidget(layout=Layout(height='500px', width='100%'))"
      ]
     },
     "metadata": {},
     "output_type": "display_data"
    }
   ],
   "source": [
    "\n",
    "result = session.run(\"MATCH (m)-[r]->(t) RETURN m,r,t LIMIT 100\")\n",
    "\n",
    "w = GraphWidget(graph = result.graph())\n",
    "\n",
    "w.show()"
   ]
  }
 ],
 "metadata": {
  "kernelspec": {
   "display_name": "Python 3",
   "language": "python",
   "name": "python3"
  },
  "language_info": {
   "codemirror_mode": {
    "name": "ipython",
    "version": 3
   },
   "file_extension": ".py",
   "mimetype": "text/x-python",
   "name": "python",
   "nbconvert_exporter": "python",
   "pygments_lexer": "ipython3",
   "version": "3.10.10"
  }
 },
 "nbformat": 4,
 "nbformat_minor": 0
}

{
 "cells": [
  {
   "cell_type": "code",
   "execution_count": 2,
   "metadata": {},
   "outputs": [],
   "source": [
    "from graphdatascience import GraphDataScience\n",
    "from neo4j import GraphDatabase\n",
    "from yfiles_jupyter_graphs import GraphWidget"
   ]
  },
  {
   "cell_type": "code",
   "execution_count": 3,
   "metadata": {
    "ExecuteTime": {
     "end_time": "2023-05-26T07:20:01.190881900Z",
     "start_time": "2023-05-26T07:20:01.113877900Z"
    }
   },
   "outputs": [],
   "source": [
    "uri = \"bolt://localhost:7687\" \n",
    "user = \"neo4j\"  \n",
    "password = \"12345678\"\n",
    "driver = GraphDatabase.driver(uri=uri,auth=(user,password),database='neo4j')\n",
    "session = driver.session(database='neo4j')"
   ]
  },
  {
   "attachments": {},
   "cell_type": "markdown",
   "metadata": {},
   "source": [
    "### Visualize the graph"
   ]
  },
  {
   "cell_type": "code",
   "execution_count": 3,
   "metadata": {},
   "outputs": [
    {
     "data": {
      "application/vnd.jupyter.widget-view+json": {
       "model_id": "11cfd4e6160e44078f641b4fd22ef204",
       "version_major": 2,
       "version_minor": 0
      },
      "text/plain": [
       "GraphWidget(layout=Layout(height='500px', width='100%'))"
      ]
     },
     "metadata": {},
     "output_type": "display_data"
    }
   ],
   "source": [
    "\n",
    "result = session.run(\"CALL db.schema.visualization()\")\n",
    "w = GraphWidget(graph = result.graph())\n",
    "w.show()"
   ]
  },
  {
   "cell_type": "code",
   "execution_count": 4,
   "metadata": {},
   "outputs": [
    {
     "data": {
      "text/plain": [
       "<neo4j._sync.work.result.Result at 0x1b1daf79bd0>"
      ]
     },
     "execution_count": 4,
     "metadata": {},
     "output_type": "execute_result"
    }
   ],
   "source": [
    "session.run('''\n",
    "CALL gds.graph.project(\n",
    "  'ratings',\n",
    "  ['User','Movie'],\n",
    "  {\n",
    "    RATED: {\n",
    "      orientation: 'UNDIRECTED',\n",
    "      properties: 'rating'\n",
    "    }\n",
    "  }\n",
    ")\n",
    "''')"
   ]
  },
  {
   "cell_type": "code",
   "execution_count": 81,
   "metadata": {},
   "outputs": [
    {
     "data": {
      "text/plain": [
       "<neo4j._sync.work.result.Result at 0x187be23e590>"
      ]
     },
     "execution_count": 81,
     "metadata": {},
     "output_type": "execute_result"
    }
   ],
   "source": [
    "session.run('''\n",
    "CALL gds.fastRP.mutate('ratings',\n",
    "  {\n",
    "    embeddingDimension: 256,\n",
    "    randomSeed: 7474,\n",
    "    mutateProperty: 'embedding',\n",
    "    relationshipWeightProperty: 'rating',\n",
    "    iterationWeights: [0.8, 1, 1, 1]\n",
    "  }\n",
    ")\n",
    "YIELD nodePropertiesWritten\n",
    "''')"
   ]
  },
  {
   "cell_type": "code",
   "execution_count": 82,
   "metadata": {},
   "outputs": [
    {
     "name": "stdout",
     "output_type": "stream",
     "text": [
      "   nodesCompared  relationshipsWritten  meanSimilarity\n",
      "0          10440                 52200        0.950769\n"
     ]
    }
   ],
   "source": [
    "result = session.run('''\n",
    "    CALL gds.knn.write('ratings', {\n",
    "    topK: 5,\n",
    "    nodeProperties: ['embedding'],\n",
    "    randomSeed: 42,\n",
    "    concurrency: 1,\n",
    "    sampleRate: 1.0,\n",
    "    deltaThreshold: 0.0,\n",
    "    writeRelationshipType: \"SIMILAR\",\n",
    "    writeProperty: \"score\"\n",
    "})\n",
    "YIELD nodesCompared, relationshipsWritten, similarityDistribution\n",
    "RETURN nodesCompared, relationshipsWritten, similarityDistribution.mean as meanSimilarity\n",
    "''').to_df()\n",
    "print(result)"
   ]
  },
  {
   "cell_type": "code",
   "execution_count": 6,
   "metadata": {},
   "outputs": [
    {
     "name": "stdout",
     "output_type": "stream",
     "text": [
      "   person1  person2  similarity\n",
      "0  user126  user379    0.989860\n",
      "1  user379  user126    0.989860\n",
      "2  user242  user468    0.987524\n",
      "3  user468  user242    0.987524\n",
      "4  user130  user574    0.985089\n",
      "5  user574  user130    0.985089\n",
      "6  user379  user507    0.984774\n",
      "7  user507  user379    0.984774\n",
      "8  user150  user270    0.984757\n",
      "9  user270  user150    0.984757\n"
     ]
    }
   ],
   "source": [
    "similar_user = session.run('''\n",
    "    MATCH (n:User)-[r:SIMILAR]->(m:User)\n",
    "    RETURN n.id as person1, m.id as person2, r.score as similarity\n",
    "    ORDER BY similarity DESCENDING, person1, person2 limit 10\n",
    "''').to_df()\n",
    "print(similar_user)"
   ]
  },
  {
   "attachments": {},
   "cell_type": "markdown",
   "metadata": {},
   "source": [
    "### Recommendation by user"
   ]
  },
  {
   "cell_type": "code",
   "execution_count": 5,
   "metadata": {},
   "outputs": [
    {
     "name": "stdout",
     "output_type": "stream",
     "text": [
      "   userId                                    movieTitle movieId  \\\n",
      "0  user29                      Clear and Present Danger     349   \n",
      "1  user29  Harry Potter and the Deathly Hallows: Part 1   81834   \n",
      "2  user29                                    Black Swan   81591   \n",
      "3  user29                                   Crazy Heart   73023   \n",
      "4  user29                                        Avatar   72998   \n",
      "5  user29                                      Invictus   72733   \n",
      "6  user29                              Blind Side, The    72641   \n",
      "7  user29                                 Up in the Air   72011   \n",
      "8  user29                                Serious Man, A   71464   \n",
      "9  user29        Harry Potter and the Half-Blood Prince   69844   \n",
      "\n",
      "                                   genres      similarUserIds  \n",
      "0        [Action, Crime, Drama, Thriller]           [user590]  \n",
      "1            [Action, Adventure, Fantasy]           [user590]  \n",
      "2                       [Drama, Thriller]  [user590, user261]  \n",
      "3                        [Romance, Drama]           [user590]  \n",
      "4             [Action, Adventure, Sci-Fi]           [user590]  \n",
      "5                                 [Drama]           [user590]  \n",
      "6                                 [Drama]           [user590]  \n",
      "7                        [Drama, Romance]           [user590]  \n",
      "8                         [Drama, Comedy]           [user590]  \n",
      "9  [Adventure, Fantasy, Mystery, Romance]           [user590]  \n"
     ]
    }
   ],
   "source": [
    "query = '''\n",
    "MATCH (u:User {id: 'user29'})\n",
    "MATCH (u)-[r1:SIMILAR]->(similarUser)-[r2:RATED]->(m:Movie)<-[:IS_GENRE_OF]-(genre:Genre)\n",
    "WHERE NOT EXISTS((u)-[:RATED]->(m))\n",
    "RETURN u.id AS userId, m.title AS movieTitle, m.id AS movieId, COLLECT(DISTINCT genre.name) AS genres, COLLECT(DISTINCT similarUser.id) AS similarUserIds\n",
    "LIMIT 10\n",
    "'''\n",
    "result = session.run(query)\n",
    "print(result.to_df())\n",
    "# widget = GraphWidget(graph = result.graph(), overview_enabled=True)\n",
    "# widget.show()"
   ]
  },
  {
   "attachments": {},
   "cell_type": "markdown",
   "metadata": {},
   "source": [
    "#### visualize the graph"
   ]
  },
  {
   "cell_type": "code",
   "execution_count": 6,
   "metadata": {},
   "outputs": [
    {
     "data": {
      "application/vnd.jupyter.widget-view+json": {
       "model_id": "e6a601073b5d4da5abd5935461c3361a",
       "version_major": 2,
       "version_minor": 0
      },
      "text/plain": [
       "GraphWidget(layout=Layout(height='500px', width='100%'))"
      ]
     },
     "metadata": {},
     "output_type": "display_data"
    }
   ],
   "source": [
    "query = '''\n",
    "MATCH (u:User {id: 'user29'})\n",
    "MATCH (u)-[r1:SIMILAR]->(similarUser)-[r2:RATED]->(m:Movie)\n",
    "WHERE NOT EXISTS((u)-[:RATED]->(m))\n",
    "RETURN u, similarUser, m, r1, r2\n",
    "LIMIT 10\n",
    "'''\n",
    "result = session.run(query)\n",
    "widget = GraphWidget(graph = result.graph())\n",
    "widget.show()"
   ]
  },
  {
   "attachments": {},
   "cell_type": "markdown",
   "metadata": {},
   "source": [
    "### Recommendation by movie"
   ]
  },
  {
   "cell_type": "code",
   "execution_count": 25,
   "metadata": {},
   "outputs": [
    {
     "name": "stdout",
     "output_type": "stream",
     "text": [
      "  MovieId                                             genres  \\\n",
      "0   60069            [Adventure, Animation, Romance, Sci-Fi]   \n",
      "1   72998                        [Action, Adventure, Sci-Fi]   \n",
      "2   59315                        [Action, Adventure, Sci-Fi]   \n",
      "3   58559                             [Action, Crime, Drama]   \n",
      "4   79132  [Action, Crime, Drama, Mystery, Sci-Fi, Thriller]   \n",
      "5   78499            [Adventure, Animation, Comedy, Fantasy]   \n",
      "6  115617                        [Action, Animation, Comedy]   \n",
      "7   71264                               [Fantasy, Animation]   \n",
      "8  111659                                [Adventure, Action]   \n",
      "9   89039                           [Sci-Fi, Romance, Drama]   \n",
      "\n",
      "                          movieTitle     score  \n",
      "0                             WALL·E  0.979104  \n",
      "1                             Avatar  0.975069  \n",
      "2                           Iron Man  0.974797  \n",
      "3                   Dark Knight, The  0.969951  \n",
      "4                          Inception  0.968386  \n",
      "5                        Toy Story 3  0.964738  \n",
      "6                         Big Hero 6  0.959500  \n",
      "7  Cloudy with a Chance of Meatballs  0.942115  \n",
      "8                         Maleficent  0.926182  \n",
      "9                      Another Earth  0.898279  \n"
     ]
    }
   ],
   "source": [
    "query = '''\n",
    "MATCH (targetMovie:Movie {id: '68954'})\n",
    "MATCH (targetMovie)-[similarity:SIMILAR]-(similarMovie:Movie)<-[:IS_GENRE_OF]-(genre:Genre)\n",
    "WHERE similarMovie.id <> targetMovie.id\n",
    "RETURN DISTINCT similarMovie.id AS MovieId, COLLECT(DISTINCT genre.name) AS genres, similarMovie.title AS movieTitle , similarity.score AS score\n",
    "ORDER BY similarity.score DESC\n",
    "LIMIT 10\n",
    "'''\n",
    "result = session.run(query)\n",
    "print(result.to_df())\n",
    "# widget = GraphWidget(graph = result.graph())\n",
    "# widget.show()"
   ]
  },
  {
   "attachments": {},
   "cell_type": "markdown",
   "metadata": {},
   "source": [
    "#### Visualize the graph"
   ]
  },
  {
   "cell_type": "code",
   "execution_count": 7,
   "metadata": {},
   "outputs": [
    {
     "data": {
      "application/vnd.jupyter.widget-view+json": {
       "model_id": "ad81f7258e63452aafa45c0ca18c00a2",
       "version_major": 2,
       "version_minor": 0
      },
      "text/plain": [
       "GraphWidget(layout=Layout(height='500px', width='100%'))"
      ]
     },
     "metadata": {},
     "output_type": "display_data"
    }
   ],
   "source": [
    "query = '''\n",
    "MATCH (targetMovie:Movie {id: '68954'})\n",
    "MATCH (targetMovie)-[similarity:SIMILAR]-(similarMovie:Movie)<-[:IS_GENRE_OF]-(genre:Genre)\n",
    "WHERE similarMovie.id <> targetMovie.id\n",
    "RETURN DISTINCT targetMovie, similarMovie, similarity\n",
    "ORDER BY similarity.score DESC\n",
    "LIMIT 10\n",
    "'''\n",
    "result = session.run(query)\n",
    "widget = GraphWidget(graph = result.graph())\n",
    "widget.show()"
   ]
  },
  {
   "attachments": {},
   "cell_type": "markdown",
   "metadata": {},
   "source": [
    "#### PageRank Algorithm"
   ]
  },
  {
   "cell_type": "code",
   "execution_count": 49,
   "metadata": {},
   "outputs": [],
   "source": [
    "query = '''\n",
    "CALL gds.graph.project(\n",
    "  \t'pagerank_collab',\n",
    "  \t['Movie', 'Movie'],\n",
    "  \t'SIMILAR',\n",
    "  {\n",
    "   \t relationshipProperties: {\n",
    "      \tscore: {\n",
    "        \tproperty: 'score',\n",
    "        \tdefaultValue: 0.0\n",
    "      }\n",
    "    }\n",
    "  }\n",
    ");\n",
    "'''\n",
    "result = session.run(query)\n"
   ]
  },
  {
   "cell_type": "code",
   "execution_count": 53,
   "metadata": {},
   "outputs": [
    {
     "name": "stdout",
     "output_type": "stream",
     "text": [
      "  movieId                                         movieTitle     score  \\\n",
      "0   69122                                      Hangover, The  0.053133   \n",
      "1   72998                                             Avatar  0.048280   \n",
      "2   68954                                                 Up  0.040258   \n",
      "3   73017                                    Sherlock Holmes  0.039729   \n",
      "4   54286                              Bourne Ultimatum, The  0.035928   \n",
      "5   58559                                   Dark Knight, The  0.029241   \n",
      "6   59315                                           Iron Man  0.026921   \n",
      "7    6539  Pirates of the Caribbean: The Curse of the Bla...  0.023143   \n",
      "8    5952             Lord of the Rings: The Two Towers, The  0.020266   \n",
      "9    8961                                   Incredibles, The  0.019339   \n",
      "\n",
      "                                   genres  \n",
      "0                         [Comedy, Crime]  \n",
      "1             [Action, Adventure, Sci-Fi]  \n",
      "2           [Adventure, Animation, Drama]  \n",
      "3      [Action, Crime, Mystery, Thriller]  \n",
      "4               [Action, Crime, Thriller]  \n",
      "5                  [Action, Crime, Drama]  \n",
      "6             [Action, Adventure, Sci-Fi]  \n",
      "7    [Action, Adventure, Comedy, Fantasy]  \n",
      "8                    [Adventure, Fantasy]  \n",
      "9  [Action, Adventure, Animation, Comedy]  \n"
     ]
    }
   ],
   "source": [
    "query = '''\n",
    "    MATCH (src1:Movie {id: $movieid})\n",
    "    CALL gds.pageRank.stream('pagerank_collab', {\n",
    "    maxIterations: 20,\n",
    "    dampingFactor: 0.85,\n",
    "    sourceNodes: [src1],\n",
    "    relationshipTypes: ['SIMILAR'],\n",
    "    relationshipWeightProperty: 'score'\n",
    "    })\n",
    "    YIELD nodeId, score\n",
    "    WHERE gds.util.asNode(nodeId).id <> src1.id\n",
    "    WITH gds.util.asNode(nodeId) AS movie, score\n",
    "    MATCH (movie)<-[:IS_GENRE_OF]-(genre:Genre)\n",
    "    RETURN movie.id AS movieId, movie.title AS movieTitle, score, COLLECT(DISTINCT genre.name) AS genres\n",
    "    ORDER BY score DESC\n",
    "    LIMIT $n;\n",
    "'''\n",
    "result = session.run(query, movieid='78499', n=10)\n",
    "print(result.to_df())"
   ]
  }
 ],
 "metadata": {
  "kernelspec": {
   "display_name": "Python 3",
   "language": "python",
   "name": "python3"
  },
  "language_info": {
   "codemirror_mode": {
    "name": "ipython",
    "version": 3
   },
   "file_extension": ".py",
   "mimetype": "text/x-python",
   "name": "python",
   "nbconvert_exporter": "python",
   "pygments_lexer": "ipython3",
   "version": "3.10.10"
  }
 },
 "nbformat": 4,
 "nbformat_minor": 1
}

{
 "cells": [
  {
   "cell_type": "code",
   "execution_count": 26,
   "metadata": {},
   "outputs": [],
   "source": [
    "from graphdatascience import GraphDataScience\n",
    "from neo4j import GraphDatabase\n",
    "from yfiles_jupyter_graphs import GraphWidget"
   ]
  },
  {
   "cell_type": "code",
   "execution_count": 27,
   "metadata": {
    "ExecuteTime": {
     "end_time": "2023-05-26T07:20:01.190881900Z",
     "start_time": "2023-05-26T07:20:01.113877900Z"
    }
   },
   "outputs": [],
   "source": [
    "uri = \"bolt://localhost:7687\" \n",
    "user = \"neo4j\"  \n",
    "password = \"12345678\"\n",
    "driver = GraphDatabase.driver(uri=uri,auth=(user,password),database='neo4j')\n",
    "session = driver.session(database='neo4j')"
   ]
  },
  {
   "attachments": {},
   "cell_type": "markdown",
   "metadata": {},
   "source": [
    "### Visualize the graph"
   ]
  },
  {
   "cell_type": "code",
   "execution_count": 28,
   "metadata": {},
   "outputs": [
    {
     "data": {
      "application/vnd.jupyter.widget-view+json": {
       "model_id": "5494cf31a50047739648c94da073490f",
       "version_major": 2,
       "version_minor": 0
      },
      "text/plain": [
       "GraphWidget(layout=Layout(height='500px', width='100%'))"
      ]
     },
     "metadata": {},
     "output_type": "display_data"
    }
   ],
   "source": [
    "\n",
    "result = session.run(\"CALL db.schema.visualization()\")\n",
    "w = GraphWidget(graph = result.graph())\n",
    "w.show()"
   ]
  },
  {
   "attachments": {},
   "cell_type": "markdown",
   "metadata": {},
   "source": [
    "### 1: Graph creation"
   ]
  },
  {
   "cell_type": "code",
   "execution_count": 29,
   "metadata": {},
   "outputs": [
    {
     "data": {
      "text/plain": [
       "<neo4j._sync.work.result.Result at 0x174658ca920>"
      ]
     },
     "execution_count": 29,
     "metadata": {},
     "output_type": "execute_result"
    }
   ],
   "source": [
    "session.run('''\n",
    "CALL gds.graph.project(\n",
    "  'ratings',\n",
    "  ['User','Movie'],\n",
    "  {\n",
    "    RATED: {\n",
    "      orientation: 'UNDIRECTED',\n",
    "      properties: 'rating'\n",
    "    }\n",
    "  }\n",
    ")\n",
    "''')"
   ]
  },
  {
   "attachments": {},
   "cell_type": "markdown",
   "metadata": {},
   "source": [
    "### 2: Node embedding"
   ]
  },
  {
   "cell_type": "code",
   "execution_count": 30,
   "metadata": {},
   "outputs": [
    {
     "data": {
      "text/plain": [
       "<neo4j._sync.work.result.Result at 0x174654596f0>"
      ]
     },
     "execution_count": 30,
     "metadata": {},
     "output_type": "execute_result"
    }
   ],
   "source": [
    "session.run('''\n",
    "CALL gds.fastRP.mutate('ratings',\n",
    "  {\n",
    "    embeddingDimension: 256,\n",
    "    randomSeed: 7474,\n",
    "    mutateProperty: 'embedding',\n",
    "    relationshipWeightProperty: 'rating',\n",
    "    iterationWeights: [0.8, 1, 1, 1]\n",
    "  }\n",
    ")\n",
    "YIELD nodePropertiesWritten\n",
    "''')"
   ]
  },
  {
   "attachments": {},
   "cell_type": "markdown",
   "metadata": {},
   "source": [
    "### 3: Node similarity with KNN"
   ]
  },
  {
   "cell_type": "code",
   "execution_count": 31,
   "metadata": {},
   "outputs": [
    {
     "name": "stdout",
     "output_type": "stream",
     "text": [
      "   nodesCompared  relationshipsWritten  meanSimilarity\n",
      "0           9808                 49040        0.327103\n"
     ]
    }
   ],
   "source": [
    "result = session.run('''\n",
    "    CALL gds.knn.write('ratings', {\n",
    "    topK: 5,\n",
    "    nodeProperties: ['embedding'],\n",
    "    randomSeed: 42,\n",
    "    concurrency: 1,\n",
    "    sampleRate: 1.0,\n",
    "    deltaThreshold: 0.0,\n",
    "    writeRelationshipType: \"SIMILAR\",\n",
    "    writeProperty: \"score\"\n",
    "})\n",
    "YIELD nodesCompared, relationshipsWritten, similarityDistribution\n",
    "RETURN nodesCompared, relationshipsWritten, similarityDistribution.mean as meanSimilarity\n",
    "''').to_df()\n",
    "print(result)"
   ]
  },
  {
   "attachments": {},
   "cell_type": "markdown",
   "metadata": {},
   "source": [
    "### 4: Explore the graph. Print similar users"
   ]
  },
  {
   "cell_type": "code",
   "execution_count": 32,
   "metadata": {},
   "outputs": [
    {
     "name": "stdout",
     "output_type": "stream",
     "text": [
      "  person1 person2  similarity\n",
      "0  user46  user56    0.970529\n",
      "1  user56  user46    0.970529\n",
      "2  user38   user8    0.970025\n",
      "3   user8  user38    0.970025\n",
      "4  user26  user56    0.969324\n",
      "5  user56  user26    0.969324\n",
      "6  user26  user37    0.964899\n",
      "7  user37  user26    0.964899\n",
      "8  user38  user58    0.963291\n",
      "9  user58  user38    0.963291\n"
     ]
    }
   ],
   "source": [
    "similar_user = session.run('''\n",
    "    MATCH (n:User)-[r:SIMILAR]->(m:User)\n",
    "    RETURN n.id as person1, m.id as person2, r.score as similarity\n",
    "    ORDER BY similarity DESCENDING, person1, person2 limit 10\n",
    "''').to_df()\n",
    "print(similar_user)"
   ]
  },
  {
   "attachments": {},
   "cell_type": "markdown",
   "metadata": {},
   "source": [
    "### 5: Make moive recommendations by user KNN"
   ]
  },
  {
   "cell_type": "code",
   "execution_count": 38,
   "metadata": {},
   "outputs": [
    {
     "name": "stdout",
     "output_type": "stream",
     "text": [
      "  userId                          movieTitle movieId similarUserIds\n",
      "0  user5                             Jumanji       2        [user8]\n",
      "1  user5                           GoldenEye      10        [user8]\n",
      "2  user5             American President, The      11        [user8]\n",
      "3  user5  Twelve Monkeys (a.k.a. 12 Monkeys)      32        [user8]\n",
      "4  user5                Seven (a.k.a. Se7en)      47        [user8]\n",
      "5  user5                       Birdcage, The     141        [user8]\n",
      "6  user5                            Net, The     185        [user8]\n",
      "7  user5                         Nine Months     186        [user8]\n",
      "8  user5                          Waterworld     208        [user8]\n",
      "9  user5     Dumb & Dumber (Dumb and Dumber)     231        [user8]\n"
     ]
    }
   ],
   "source": [
    "query = '''\n",
    "MATCH (u:User {id: 'user5'})\n",
    "MATCH (u)-[r1:SIMILAR]->(similarUser)-[r2:RATED]->(m:Movie)\n",
    "WHERE NOT EXISTS((u)-[:RATED]->(m))\n",
    "RETURN u.id AS userId, m.title AS movieTitle, m.id AS movieId, COLLECT(DISTINCT similarUser.id) AS similarUserIds\n",
    "LIMIT 10\n",
    "'''\n",
    "result = session.run(query)\n",
    "print(result.to_df())"
   ]
  },
  {
   "attachments": {},
   "cell_type": "markdown",
   "metadata": {},
   "source": [
    "#### visualize the graph"
   ]
  },
  {
   "cell_type": "code",
   "execution_count": 40,
   "metadata": {},
   "outputs": [
    {
     "data": {
      "application/vnd.jupyter.widget-view+json": {
       "model_id": "9bdabc1533cb409391159c3d4e2feac0",
       "version_major": 2,
       "version_minor": 0
      },
      "text/plain": [
       "GraphWidget(layout=Layout(height='500px', width='100%'))"
      ]
     },
     "metadata": {},
     "output_type": "display_data"
    }
   ],
   "source": [
    "query = '''\n",
    "MATCH (u:User {id: 'user5'})\n",
    "MATCH (u)-[r1:SIMILAR]->(similarUser)-[r2:RATED]->(m:Movie)\n",
    "WHERE NOT EXISTS((u)-[:RATED]->(m))\n",
    "RETURN u, similarUser, m, r1, r2\n",
    "LIMIT 10\n",
    "'''\n",
    "result = session.run(query)\n",
    "widget = GraphWidget(graph = result.graph())\n",
    "widget.show()"
   ]
  },
  {
   "attachments": {},
   "cell_type": "markdown",
   "metadata": {},
   "source": [
    "### 6: Recommendation by movie KNN"
   ]
  },
  {
   "cell_type": "code",
   "execution_count": 45,
   "metadata": {},
   "outputs": [
    {
     "name": "stdout",
     "output_type": "stream",
     "text": [
      "  MovieId                                      movieTitle     score\n",
      "0   91529                          Dark Knight Rises, The  0.984773\n",
      "1   79132                                       Inception  0.971491\n",
      "2   58559                                Dark Knight, The  0.969354\n",
      "3  112852                         Guardians of the Galaxy  0.967343\n",
      "4    7153  Lord of the Rings: The Return of the King, The  0.965962\n",
      "5   60069                                          WALL·E  0.963464\n",
      "6   58826                    Shepherd: Border Patrol, The  0.000000\n"
     ]
    }
   ],
   "source": [
    "query = '''\n",
    "MATCH (targetMovie:Movie {id: '68954'})\n",
    "MATCH (targetMovie)-[similarity:SIMILAR]-(similarMovie:Movie)\n",
    "WHERE similarMovie.id <> targetMovie.id\n",
    "RETURN DISTINCT similarMovie.id AS MovieId, similarMovie.title AS movieTitle , similarity.score AS score\n",
    "ORDER BY similarity.score DESC\n",
    "LIMIT 10\n",
    "'''\n",
    "result = session.run(query)\n",
    "print(result.to_df())"
   ]
  },
  {
   "attachments": {},
   "cell_type": "markdown",
   "metadata": {},
   "source": [
    "#### Visualize the graph"
   ]
  },
  {
   "cell_type": "code",
   "execution_count": 46,
   "metadata": {},
   "outputs": [
    {
     "data": {
      "application/vnd.jupyter.widget-view+json": {
       "model_id": "74eb775041da4a4886c2dd344284d221",
       "version_major": 2,
       "version_minor": 0
      },
      "text/plain": [
       "GraphWidget(layout=Layout(height='500px', width='100%'))"
      ]
     },
     "metadata": {},
     "output_type": "display_data"
    }
   ],
   "source": [
    "query = '''\n",
    "MATCH (targetMovie:Movie {id: '68954'})\n",
    "MATCH (targetMovie)-[similarity:SIMILAR]-(similarMovie:Movie)\n",
    "WHERE similarMovie.id <> targetMovie.id\n",
    "RETURN DISTINCT targetMovie, similarMovie, similarity\n",
    "ORDER BY similarity.score DESC\n",
    "LIMIT 10\n",
    "'''\n",
    "result = session.run(query)\n",
    "widget = GraphWidget(graph = result.graph())\n",
    "widget.show()"
   ]
  },
  {
   "attachments": {},
   "cell_type": "markdown",
   "metadata": {},
   "source": [
    "#### 7: Recommendation by KNN + PageRank Algorithm"
   ]
  },
  {
   "cell_type": "code",
   "execution_count": 47,
   "metadata": {},
   "outputs": [],
   "source": [
    "query = '''\n",
    "CALL gds.graph.project(\n",
    "  \t'pagerank_collab',\n",
    "  \t['Movie', 'Movie'],\n",
    "  \t'SIMILAR',\n",
    "  {\n",
    "   \t relationshipProperties: {\n",
    "      \tscore: {\n",
    "        \tproperty: 'score',\n",
    "        \tdefaultValue: 0.0\n",
    "      }\n",
    "    }\n",
    "  }\n",
    ");\n",
    "'''\n",
    "result = session.run(query)\n"
   ]
  },
  {
   "cell_type": "code",
   "execution_count": 50,
   "metadata": {},
   "outputs": [
    {
     "name": "stdout",
     "output_type": "stream",
     "text": [
      "  movieId                                      movieTitle     score\n",
      "0   58559                                Dark Knight, The  0.076272\n",
      "1   79132                                       Inception  0.069243\n",
      "2    7153  Lord of the Rings: The Return of the King, The  0.068999\n",
      "3   91529                          Dark Knight Rises, The  0.057266\n",
      "4  112852                         Guardians of the Galaxy  0.046662\n",
      "5   60069                                          WALL·E  0.028320\n",
      "6  122900                                         Ant-Man  0.023766\n",
      "7   89745                                   Avengers, The  0.023307\n",
      "8   73017                                 Sherlock Holmes  0.019971\n",
      "9   33794                                   Batman Begins  0.017938\n"
     ]
    }
   ],
   "source": [
    "query = '''\n",
    "    MATCH (src1:Movie {id: $movieid})\n",
    "    CALL gds.pageRank.stream('pagerank_collab', {\n",
    "    maxIterations: 20,\n",
    "    dampingFactor: 0.85,\n",
    "    sourceNodes: [src1],\n",
    "    relationshipTypes: ['SIMILAR'],\n",
    "    relationshipWeightProperty: 'score'\n",
    "    })\n",
    "    YIELD nodeId, score\n",
    "    WHERE gds.util.asNode(nodeId).id <> src1.id\n",
    "    WITH gds.util.asNode(nodeId) AS movie, score\n",
    "    RETURN movie.id AS movieId, movie.title AS movieTitle, score\n",
    "    ORDER BY score DESC\n",
    "    LIMIT $n;\n",
    "'''\n",
    "result = session.run(query, movieid='68954', n=10)\n",
    "print(result.to_df())"
   ]
  }
 ],
 "metadata": {
  "kernelspec": {
   "display_name": "Python 3",
   "language": "python",
   "name": "python3"
  },
  "language_info": {
   "codemirror_mode": {
    "name": "ipython",
    "version": 3
   },
   "file_extension": ".py",
   "mimetype": "text/x-python",
   "name": "python",
   "nbconvert_exporter": "python",
   "pygments_lexer": "ipython3",
   "version": "3.10.10"
  }
 },
 "nbformat": 4,
 "nbformat_minor": 1
}

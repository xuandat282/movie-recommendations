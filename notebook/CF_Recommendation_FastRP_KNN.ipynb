{
 "cells": [
  {
   "cell_type": "code",
   "execution_count": 3,
   "metadata": {},
   "outputs": [],
   "source": [
    "from graphdatascience import GraphDataScience\n",
    "from neo4j import GraphDatabase\n",
    "from yfiles_jupyter_graphs import GraphWidget"
   ]
  },
  {
   "cell_type": "code",
   "execution_count": 4,
   "metadata": {
    "ExecuteTime": {
     "end_time": "2023-05-26T07:20:01.190881900Z",
     "start_time": "2023-05-26T07:20:01.113877900Z"
    }
   },
   "outputs": [],
   "source": [
    "uri = \"bolt://localhost:7687\" \n",
    "user = \"neo4j\"  \n",
    "password = \"12345678\"\n",
    "driver = GraphDatabase.driver(uri=uri,auth=(user,password),database='neo4j')\n",
    "session = driver.session(database='neo4j')"
   ]
  },
  {
   "attachments": {},
   "cell_type": "markdown",
   "metadata": {},
   "source": [
    "### Visualize the graph"
   ]
  },
  {
   "cell_type": "code",
   "execution_count": 5,
   "metadata": {},
   "outputs": [
    {
     "data": {
      "application/vnd.jupyter.widget-view+json": {
       "model_id": "74148db0aec1434390542f40bc55e2c6",
       "version_major": 2,
       "version_minor": 0
      },
      "text/plain": [
       "GraphWidget(layout=Layout(height='500px', width='100%'))"
      ]
     },
     "metadata": {},
     "output_type": "display_data"
    }
   ],
   "source": [
    "\n",
    "result = session.run(\"CALL db.schema.visualization()\")\n",
    "w = GraphWidget(graph = result.graph())\n",
    "w.show()"
   ]
  },
  {
   "cell_type": "code",
   "execution_count": 80,
   "metadata": {},
   "outputs": [
    {
     "data": {
      "text/plain": [
       "<neo4j._sync.work.result.Result at 0x187be20d840>"
      ]
     },
     "execution_count": 80,
     "metadata": {},
     "output_type": "execute_result"
    }
   ],
   "source": [
    "session.run('''\n",
    "CALL gds.graph.project(\n",
    "  'ratings',\n",
    "  ['User','Movie'],\n",
    "  {\n",
    "    RATED: {\n",
    "      orientation: 'UNDIRECTED',\n",
    "      properties: 'rating'\n",
    "    }\n",
    "  }\n",
    ")\n",
    "''')"
   ]
  },
  {
   "cell_type": "code",
   "execution_count": 81,
   "metadata": {},
   "outputs": [
    {
     "data": {
      "text/plain": [
       "<neo4j._sync.work.result.Result at 0x187be23e590>"
      ]
     },
     "execution_count": 81,
     "metadata": {},
     "output_type": "execute_result"
    }
   ],
   "source": [
    "session.run('''\n",
    "CALL gds.fastRP.mutate('ratings',\n",
    "  {\n",
    "    embeddingDimension: 256,\n",
    "    randomSeed: 7474,\n",
    "    mutateProperty: 'embedding',\n",
    "    relationshipWeightProperty: 'rating',\n",
    "    iterationWeights: [0.8, 1, 1, 1]\n",
    "  }\n",
    ")\n",
    "YIELD nodePropertiesWritten\n",
    "''')"
   ]
  },
  {
   "cell_type": "code",
   "execution_count": 82,
   "metadata": {},
   "outputs": [
    {
     "name": "stdout",
     "output_type": "stream",
     "text": [
      "   nodesCompared  relationshipsWritten  meanSimilarity\n",
      "0          10440                 52200        0.950769\n"
     ]
    }
   ],
   "source": [
    "result = session.run('''\n",
    "    CALL gds.knn.write('ratings', {\n",
    "    topK: 5,\n",
    "    nodeProperties: ['embedding'],\n",
    "    randomSeed: 42,\n",
    "    concurrency: 1,\n",
    "    sampleRate: 1.0,\n",
    "    deltaThreshold: 0.0,\n",
    "    writeRelationshipType: \"SIMILAR\",\n",
    "    writeProperty: \"score\"\n",
    "})\n",
    "YIELD nodesCompared, relationshipsWritten, similarityDistribution\n",
    "RETURN nodesCompared, relationshipsWritten, similarityDistribution.mean as meanSimilarity\n",
    "''').to_df()\n",
    "print(result)"
   ]
  },
  {
   "cell_type": "code",
   "execution_count": 83,
   "metadata": {},
   "outputs": [
    {
     "name": "stdout",
     "output_type": "stream",
     "text": [
      "    person1  person2  similarity\n",
      "0   user126  user379    0.989860\n",
      "1   user379  user126    0.989860\n",
      "2   user242  user468    0.987524\n",
      "3   user468  user242    0.987524\n",
      "4   user130  user574    0.985089\n",
      "..      ...      ...         ...\n",
      "95  user235  user229    0.978445\n",
      "96  user404  user411    0.978418\n",
      "97  user411  user404    0.978418\n",
      "98  user130  user242    0.978277\n",
      "99  user394  user379    0.978269\n",
      "\n",
      "[100 rows x 3 columns]\n"
     ]
    }
   ],
   "source": [
    "similar_user = session.run('''\n",
    "    MATCH (n:User)-[r:SIMILAR]->(m:User)\n",
    "    RETURN n.id as person1, m.id as person2, r.score as similarity\n",
    "    ORDER BY similarity DESCENDING, person1, person2 limit 100\n",
    "''').to_df()\n",
    "print(similar_user)"
   ]
  },
  {
   "attachments": {},
   "cell_type": "markdown",
   "metadata": {},
   "source": [
    "### User-based Recommendation"
   ]
  },
  {
   "cell_type": "code",
   "execution_count": 13,
   "metadata": {},
   "outputs": [
    {
     "name": "stdout",
     "output_type": "stream",
     "text": [
      "    userId                     movieTitle movieId  \\\n",
      "0  user470  Independence Day (a.k.a. ID4)     780   \n",
      "1  user470        American President, The      11   \n",
      "2  user470                          Congo     160   \n",
      "3  user470              Santa Clause, The     317   \n",
      "4  user470                      Coneheads     435   \n",
      "5  user470      Silence of the Lambs, The     593   \n",
      "6  user470                     Home Alone     586   \n",
      "7  user470                     Piano, The     509   \n",
      "8  user470                   Philadelphia     508   \n",
      "9  user470                Made in America     489   \n",
      "\n",
      "                       similarUserIds  \n",
      "0                  [user347, user179]  \n",
      "1  [user347, user347, user94, user94]  \n",
      "2                   [user347, user94]  \n",
      "3          [user347, user94, user179]  \n",
      "4          [user347, user229, user94]  \n",
      "5          [user229, user94, user179]  \n",
      "6                   [user229, user94]  \n",
      "7                           [user229]  \n",
      "8                           [user229]  \n",
      "9                           [user229]  \n"
     ]
    }
   ],
   "source": [
    "query = '''\n",
    "MATCH (u:User {id: 'user470'})\n",
    "MATCH (u)-[r1:SIMILAR]->(similarUser)-[r2:RATED]->(m:Movie)\n",
    "WHERE NOT EXISTS((u)-[:RATED]->(m))\n",
    "RETURN u.id AS userId, m.title AS movieTitle, m.id AS movieId, COLLECT(similarUser.id) AS similarUserIds\n",
    "LIMIT 10\n",
    "'''\n",
    "result = session.run(query)\n",
    "print(result.to_df())\n",
    "# widget = GraphWidget(graph = result.graph(), overview_enabled=True)\n",
    "# widget.show()"
   ]
  },
  {
   "attachments": {},
   "cell_type": "markdown",
   "metadata": {},
   "source": [
    "### Item-based Recommendation"
   ]
  },
  {
   "cell_type": "code",
   "execution_count": 16,
   "metadata": {},
   "outputs": [
    {
     "name": "stdout",
     "output_type": "stream",
     "text": [
      "  MovieId                                  genres            MovieName  \\\n",
      "0     500                         [Comedy, Drama]       Mrs. Doubtfire   \n",
      "1     597                       [Comedy, Romance]         Pretty Woman   \n",
      "2     367        [Action, Comedy, Crime, Fantasy]            Mask, The   \n",
      "3     364  [Adventure, Animation, Drama, Musical]       Lion King, The   \n",
      "4     480   [Action, Adventure, Sci-Fi, Thriller]        Jurassic Park   \n",
      "5   52715                                [Comedy]  Kickin It Old Skool   \n",
      "\n",
      "      score  \n",
      "0  0.977436  \n",
      "1  0.974219  \n",
      "2  0.973562  \n",
      "3  0.973017  \n",
      "4  0.972254  \n",
      "5  0.881000  \n"
     ]
    }
   ],
   "source": [
    "query = '''\n",
    "MATCH (targetMovie:Movie {id: '586'})\n",
    "MATCH (targetMovie)-[similarity:SIMILAR]-(similarMovie:Movie)<-[:IS_GENRE_OF]-(genre:Genre)\n",
    "WHERE similarMovie.id <> targetMovie.id\n",
    "RETURN DISTINCT similarMovie.id AS MovieId, COLLECT(DISTINCT genre.name) AS genres, similarMovie.title AS MovieName , similarity.score AS score\n",
    "ORDER BY similarity.score DESC\n",
    "LIMIT 10\n",
    "'''\n",
    "result = session.run(query)\n",
    "print(result.to_df())\n",
    "# widget = GraphWidget(graph = result.graph())\n",
    "# widget.show()"
   ]
  }
 ],
 "metadata": {
  "kernelspec": {
   "display_name": "Python 3",
   "language": "python",
   "name": "python3"
  },
  "language_info": {
   "codemirror_mode": {
    "name": "ipython",
    "version": 3
   },
   "file_extension": ".py",
   "mimetype": "text/x-python",
   "name": "python",
   "nbconvert_exporter": "python",
   "pygments_lexer": "ipython3",
   "version": "3.10.10"
  }
 },
 "nbformat": 4,
 "nbformat_minor": 1
}

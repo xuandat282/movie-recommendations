{
 "cells": [
  {
   "cell_type": "code",
   "execution_count": 2,
   "metadata": {},
   "outputs": [],
   "source": [
    "from graphdatascience import GraphDataScience\n",
    "from neo4j import GraphDatabase\n",
    "from yfiles_jupyter_graphs import GraphWidget"
   ]
  },
  {
   "cell_type": "code",
   "execution_count": 3,
   "metadata": {
    "ExecuteTime": {
     "end_time": "2023-05-26T07:20:01.190881900Z",
     "start_time": "2023-05-26T07:20:01.113877900Z"
    }
   },
   "outputs": [],
   "source": [
    "uri = \"bolt://localhost:7687\" \n",
    "user = \"neo4j\"  \n",
    "password = \"12345678\"\n",
    "driver = GraphDatabase.driver(uri=uri,auth=(user,password),database='neo4j')\n",
    "session = driver.session(database='neo4j')"
   ]
  },
  {
   "attachments": {},
   "cell_type": "markdown",
   "metadata": {},
   "source": [
    "### Visualize the graph"
   ]
  },
  {
   "cell_type": "code",
   "execution_count": 3,
   "metadata": {},
   "outputs": [
    {
     "data": {
      "application/vnd.jupyter.widget-view+json": {
       "model_id": "11cfd4e6160e44078f641b4fd22ef204",
       "version_major": 2,
       "version_minor": 0
      },
      "text/plain": [
       "GraphWidget(layout=Layout(height='500px', width='100%'))"
      ]
     },
     "metadata": {},
     "output_type": "display_data"
    }
   ],
   "source": [
    "\n",
    "result = session.run(\"CALL db.schema.visualization()\")\n",
    "w = GraphWidget(graph = result.graph())\n",
    "w.show()"
   ]
  },
  {
   "cell_type": "code",
   "execution_count": 4,
   "metadata": {},
   "outputs": [
    {
     "data": {
      "text/plain": [
       "<neo4j._sync.work.result.Result at 0x15d9ed195d0>"
      ]
     },
     "execution_count": 4,
     "metadata": {},
     "output_type": "execute_result"
    }
   ],
   "source": [
    "session.run('''\n",
    "    CALL gds.graph.project(\n",
    "  \t'movielens_projection',\n",
    "  \t['User', 'Movie'],\n",
    "  \t'RATED',\n",
    "    {\n",
    "        relationshipProperties: {\n",
    "            rating: {\n",
    "                property: 'rating',\n",
    "                defaultValue: 0.0\n",
    "        }\n",
    "        }\n",
    "    }\n",
    "    );\n",
    "''')"
   ]
  },
  {
   "cell_type": "code",
   "execution_count": 80,
   "metadata": {},
   "outputs": [
    {
     "data": {
      "text/plain": [
       "<neo4j._sync.work.result.Result at 0x187be20d840>"
      ]
     },
     "execution_count": 80,
     "metadata": {},
     "output_type": "execute_result"
    }
   ],
   "source": [
    "session.run('''\n",
    "CALL gds.graph.project(\n",
    "  'ratings',\n",
    "  ['User','Movie'],\n",
    "  {\n",
    "    RATED: {\n",
    "      orientation: 'UNDIRECTED',\n",
    "      properties: 'rating'\n",
    "    }\n",
    "  }\n",
    ")\n",
    "''')"
   ]
  },
  {
   "cell_type": "code",
   "execution_count": 81,
   "metadata": {},
   "outputs": [
    {
     "data": {
      "text/plain": [
       "<neo4j._sync.work.result.Result at 0x187be23e590>"
      ]
     },
     "execution_count": 81,
     "metadata": {},
     "output_type": "execute_result"
    }
   ],
   "source": [
    "session.run('''\n",
    "CALL gds.fastRP.mutate('ratings',\n",
    "  {\n",
    "    embeddingDimension: 256,\n",
    "    randomSeed: 7474,\n",
    "    mutateProperty: 'embedding',\n",
    "    relationshipWeightProperty: 'rating',\n",
    "    iterationWeights: [0.8, 1, 1, 1]\n",
    "  }\n",
    ")\n",
    "YIELD nodePropertiesWritten\n",
    "''')"
   ]
  },
  {
   "cell_type": "code",
   "execution_count": 82,
   "metadata": {},
   "outputs": [
    {
     "name": "stdout",
     "output_type": "stream",
     "text": [
      "   nodesCompared  relationshipsWritten  meanSimilarity\n",
      "0          10440                 52200        0.950769\n"
     ]
    }
   ],
   "source": [
    "result = session.run('''\n",
    "    CALL gds.knn.write('ratings', {\n",
    "    topK: 5,\n",
    "    nodeProperties: ['embedding'],\n",
    "    randomSeed: 42,\n",
    "    concurrency: 1,\n",
    "    sampleRate: 1.0,\n",
    "    deltaThreshold: 0.0,\n",
    "    writeRelationshipType: \"SIMILAR\",\n",
    "    writeProperty: \"score\"\n",
    "})\n",
    "YIELD nodesCompared, relationshipsWritten, similarityDistribution\n",
    "RETURN nodesCompared, relationshipsWritten, similarityDistribution.mean as meanSimilarity\n",
    "''').to_df()\n",
    "print(result)"
   ]
  },
  {
   "cell_type": "code",
   "execution_count": 6,
   "metadata": {},
   "outputs": [
    {
     "name": "stdout",
     "output_type": "stream",
     "text": [
      "   person1  person2  similarity\n",
      "0  user126  user379    0.989860\n",
      "1  user379  user126    0.989860\n",
      "2  user242  user468    0.987524\n",
      "3  user468  user242    0.987524\n",
      "4  user130  user574    0.985089\n",
      "5  user574  user130    0.985089\n",
      "6  user379  user507    0.984774\n",
      "7  user507  user379    0.984774\n",
      "8  user150  user270    0.984757\n",
      "9  user270  user150    0.984757\n"
     ]
    }
   ],
   "source": [
    "similar_user = session.run('''\n",
    "    MATCH (n:User)-[r:SIMILAR]->(m:User)\n",
    "    RETURN n.id as person1, m.id as person2, r.score as similarity\n",
    "    ORDER BY similarity DESCENDING, person1, person2 limit 10\n",
    "''').to_df()\n",
    "print(similar_user)"
   ]
  },
  {
   "attachments": {},
   "cell_type": "markdown",
   "metadata": {},
   "source": [
    "### Recommendation by user"
   ]
  },
  {
   "cell_type": "code",
   "execution_count": 23,
   "metadata": {},
   "outputs": [
    {
     "name": "stdout",
     "output_type": "stream",
     "text": [
      "   userId                                    movieTitle movieId  \\\n",
      "0  user29                      Clear and Present Danger     349   \n",
      "1  user29  Harry Potter and the Deathly Hallows: Part 1   81834   \n",
      "2  user29                                    Black Swan   81591   \n",
      "3  user29                                   Crazy Heart   73023   \n",
      "4  user29                                        Avatar   72998   \n",
      "5  user29                                      Invictus   72733   \n",
      "6  user29                              Blind Side, The    72641   \n",
      "7  user29                                 Up in the Air   72011   \n",
      "8  user29                                Serious Man, A   71464   \n",
      "9  user29        Harry Potter and the Half-Blood Prince   69844   \n",
      "\n",
      "                                   genres      similarUserIds  \n",
      "0        [Action, Crime, Drama, Thriller]           [user590]  \n",
      "1            [Action, Adventure, Fantasy]           [user590]  \n",
      "2                       [Drama, Thriller]  [user590, user261]  \n",
      "3                        [Romance, Drama]           [user590]  \n",
      "4             [Action, Adventure, Sci-Fi]           [user590]  \n",
      "5                                 [Drama]           [user590]  \n",
      "6                                 [Drama]           [user590]  \n",
      "7                        [Drama, Romance]           [user590]  \n",
      "8                         [Drama, Comedy]           [user590]  \n",
      "9  [Adventure, Fantasy, Mystery, Romance]           [user590]  \n"
     ]
    }
   ],
   "source": [
    "query = '''\n",
    "MATCH (u:User {id: 'user29'})\n",
    "MATCH (u)-[r1:SIMILAR]->(similarUser)-[r2:RATED]->(m:Movie)<-[:IS_GENRE_OF]-(genre:Genre)\n",
    "WHERE NOT EXISTS((u)-[:RATED]->(m))\n",
    "RETURN u.id AS userId, m.title AS movieTitle, m.id AS movieId, COLLECT(DISTINCT genre.name) AS genres, COLLECT(DISTINCT similarUser.id) AS similarUserIds\n",
    "LIMIT 10\n",
    "'''\n",
    "result = session.run(query)\n",
    "print(result.to_df())\n",
    "# widget = GraphWidget(graph = result.graph(), overview_enabled=True)\n",
    "# widget.show()"
   ]
  },
  {
   "attachments": {},
   "cell_type": "markdown",
   "metadata": {},
   "source": [
    "#### visualize the graph"
   ]
  },
  {
   "cell_type": "code",
   "execution_count": 27,
   "metadata": {},
   "outputs": [
    {
     "data": {
      "application/vnd.jupyter.widget-view+json": {
       "model_id": "2794743efe424a2cbe08edf898f330fd",
       "version_major": 2,
       "version_minor": 0
      },
      "text/plain": [
       "GraphWidget(layout=Layout(height='500px', width='100%'))"
      ]
     },
     "metadata": {},
     "output_type": "display_data"
    }
   ],
   "source": [
    "query = '''\n",
    "MATCH (u:User {id: 'user29'})\n",
    "MATCH (u)-[r1:SIMILAR]->(similarUser)-[r2:RATED]->(m:Movie)\n",
    "WHERE NOT EXISTS((u)-[:RATED]->(m))\n",
    "RETURN u, similarUser, m, r1, r2\n",
    "LIMIT 10\n",
    "'''\n",
    "result = session.run(query)\n",
    "widget = GraphWidget(graph = result.graph())\n",
    "widget.show()"
   ]
  },
  {
   "attachments": {},
   "cell_type": "markdown",
   "metadata": {},
   "source": [
    "### Recommendation by movie"
   ]
  },
  {
   "cell_type": "code",
   "execution_count": 25,
   "metadata": {},
   "outputs": [
    {
     "name": "stdout",
     "output_type": "stream",
     "text": [
      "  MovieId                                             genres  \\\n",
      "0   60069            [Adventure, Animation, Romance, Sci-Fi]   \n",
      "1   72998                        [Action, Adventure, Sci-Fi]   \n",
      "2   59315                        [Action, Adventure, Sci-Fi]   \n",
      "3   58559                             [Action, Crime, Drama]   \n",
      "4   79132  [Action, Crime, Drama, Mystery, Sci-Fi, Thriller]   \n",
      "5   78499            [Adventure, Animation, Comedy, Fantasy]   \n",
      "6  115617                        [Action, Animation, Comedy]   \n",
      "7   71264                               [Fantasy, Animation]   \n",
      "8  111659                                [Adventure, Action]   \n",
      "9   89039                           [Sci-Fi, Romance, Drama]   \n",
      "\n",
      "                          movieTitle     score  \n",
      "0                             WALL·E  0.979104  \n",
      "1                             Avatar  0.975069  \n",
      "2                           Iron Man  0.974797  \n",
      "3                   Dark Knight, The  0.969951  \n",
      "4                          Inception  0.968386  \n",
      "5                        Toy Story 3  0.964738  \n",
      "6                         Big Hero 6  0.959500  \n",
      "7  Cloudy with a Chance of Meatballs  0.942115  \n",
      "8                         Maleficent  0.926182  \n",
      "9                      Another Earth  0.898279  \n"
     ]
    }
   ],
   "source": [
    "query = '''\n",
    "MATCH (targetMovie:Movie {id: '68954'})\n",
    "MATCH (targetMovie)-[similarity:SIMILAR]-(similarMovie:Movie)<-[:IS_GENRE_OF]-(genre:Genre)\n",
    "WHERE similarMovie.id <> targetMovie.id\n",
    "RETURN DISTINCT similarMovie.id AS MovieId, COLLECT(DISTINCT genre.name) AS genres, similarMovie.title AS movieTitle , similarity.score AS score\n",
    "ORDER BY similarity.score DESC\n",
    "LIMIT 10\n",
    "'''\n",
    "result = session.run(query)\n",
    "print(result.to_df())\n",
    "# widget = GraphWidget(graph = result.graph())\n",
    "# widget.show()"
   ]
  },
  {
   "attachments": {},
   "cell_type": "markdown",
   "metadata": {},
   "source": [
    "#### Visualize the graph"
   ]
  },
  {
   "cell_type": "code",
   "execution_count": 1,
   "metadata": {},
   "outputs": [
    {
     "ename": "NameError",
     "evalue": "name 'session' is not defined",
     "output_type": "error",
     "traceback": [
      "\u001b[1;31m---------------------------------------------------------------------------\u001b[0m",
      "\u001b[1;31mNameError\u001b[0m                                 Traceback (most recent call last)",
      "\u001b[1;32m~\\AppData\\Local\\Temp/ipykernel_16016/3322415275.py\u001b[0m in \u001b[0;36m<module>\u001b[1;34m\u001b[0m\n\u001b[0;32m      7\u001b[0m \u001b[0mLIMIT\u001b[0m \u001b[1;36m10\u001b[0m\u001b[1;33m\u001b[0m\u001b[1;33m\u001b[0m\u001b[0m\n\u001b[0;32m      8\u001b[0m '''\n\u001b[1;32m----> 9\u001b[1;33m \u001b[0mresult\u001b[0m \u001b[1;33m=\u001b[0m \u001b[0msession\u001b[0m\u001b[1;33m.\u001b[0m\u001b[0mrun\u001b[0m\u001b[1;33m(\u001b[0m\u001b[0mquery\u001b[0m\u001b[1;33m)\u001b[0m\u001b[1;33m\u001b[0m\u001b[1;33m\u001b[0m\u001b[0m\n\u001b[0m\u001b[0;32m     10\u001b[0m \u001b[0mwidget\u001b[0m \u001b[1;33m=\u001b[0m \u001b[0mGraphWidget\u001b[0m\u001b[1;33m(\u001b[0m\u001b[0mgraph\u001b[0m \u001b[1;33m=\u001b[0m \u001b[0mresult\u001b[0m\u001b[1;33m.\u001b[0m\u001b[0mgraph\u001b[0m\u001b[1;33m(\u001b[0m\u001b[1;33m)\u001b[0m\u001b[1;33m)\u001b[0m\u001b[1;33m\u001b[0m\u001b[1;33m\u001b[0m\u001b[0m\n\u001b[0;32m     11\u001b[0m \u001b[0mwidget\u001b[0m\u001b[1;33m.\u001b[0m\u001b[0mshow\u001b[0m\u001b[1;33m(\u001b[0m\u001b[1;33m)\u001b[0m\u001b[1;33m\u001b[0m\u001b[1;33m\u001b[0m\u001b[0m\n",
      "\u001b[1;31mNameError\u001b[0m: name 'session' is not defined"
     ]
    }
   ],
   "source": [
    "query = '''\n",
    "MATCH (targetMovie:Movie {id: '68954'})\n",
    "MATCH (targetMovie)-[similarity:SIMILAR]-(similarMovie:Movie)<-[:IS_GENRE_OF]-(genre:Genre)\n",
    "WHERE similarMovie.id <> targetMovie.id\n",
    "RETURN DISTINCT targetMovie, similarMovie, similarity\n",
    "ORDER BY similarity.score DESC\n",
    "LIMIT 10\n",
    "'''\n",
    "result = session.run(query)\n",
    "widget = GraphWidget(graph = result.graph())\n",
    "widget.show()"
   ]
  }
 ],
 "metadata": {
  "kernelspec": {
   "display_name": "Python 3",
   "language": "python",
   "name": "python3"
  },
  "language_info": {
   "codemirror_mode": {
    "name": "ipython",
    "version": 3
   },
   "file_extension": ".py",
   "mimetype": "text/x-python",
   "name": "python",
   "nbconvert_exporter": "python",
   "pygments_lexer": "ipython3",
   "version": "3.10.10"
  }
 },
 "nbformat": 4,
 "nbformat_minor": 1
}

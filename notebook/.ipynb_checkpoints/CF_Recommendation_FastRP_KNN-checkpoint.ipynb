{
 "cells": [
  {
   "cell_type": "code",
   "execution_count": 1,
   "metadata": {},
   "outputs": [],
   "source": [
    "from graphdatascience import GraphDataScience\n",
    "import pandas as pd\n",
    "import numpy as np\n",
    "import matplotlib.pyplot as plt\n",
    "pd.set_option('display.width', 0)\n",
    "pd.set_option('display.max_colwidth', 500)\n",
    "pd.set_option('display.max_rows', 12)\n",
    "from neo4j import GraphDatabase\n",
    "from yfiles_jupyter_graphs import GraphWidget"
   ]
  },
  {
   "cell_type": "code",
   "execution_count": 2,
   "metadata": {
    "ExecuteTime": {
     "end_time": "2023-05-26T07:20:01.190881900Z",
     "start_time": "2023-05-26T07:20:01.113877900Z"
    }
   },
   "outputs": [],
   "source": [
    "uri = \"bolt://localhost:7687\" \n",
    "user = \"neo4j\"  \n",
    "password = \"12345678\"\n",
    "driver = GraphDatabase.driver(uri=uri,auth=(user,password),database='neo4j')\n",
    "session = driver.session(database='neo4j')"
   ]
  },
  {
   "cell_type": "markdown",
   "metadata": {},
   "source": [
    "### Visualize the graph"
   ]
  },
  {
   "cell_type": "code",
   "execution_count": 3,
   "metadata": {},
   "outputs": [
    {
     "data": {
      "application/vnd.jupyter.widget-view+json": {
       "model_id": "96eab6966a9849c69357437a02981ca7",
       "version_major": 2,
       "version_minor": 0
      },
      "text/plain": [
       "GraphWidget(layout=Layout(height='500px', width='100%'))"
      ]
     },
     "metadata": {},
     "output_type": "display_data"
    }
   ],
   "source": [
    "\n",
    "result = session.run(\"CALL db.schema.visualization()\")\n",
    "w = GraphWidget(graph = result.graph())\n",
    "w.show()"
   ]
  },
  {
   "cell_type": "code",
   "execution_count": 9,
   "metadata": {},
   "outputs": [
    {
     "data": {
      "text/plain": [
       "<neo4j._sync.work.result.Result at 0x187bd874c40>"
      ]
     },
     "execution_count": 9,
     "metadata": {},
     "output_type": "execute_result"
    }
   ],
   "source": [
    "session.run('''\n",
    "CALL gds.graph.project(\n",
    "  'ratings',\n",
    "  ['User','Movie'],\n",
    "  {\n",
    "    RATED: {\n",
    "      orientation: 'UNDIRECTED',\n",
    "      properties: 'rating'\n",
    "    }\n",
    "  }\n",
    ")\n",
    "''')"
   ]
  },
  {
   "cell_type": "code",
   "execution_count": 13,
   "metadata": {},
   "outputs": [
    {
     "data": {
      "text/plain": [
       "<neo4j._sync.work.result.Result at 0x187bde07880>"
      ]
     },
     "execution_count": 13,
     "metadata": {},
     "output_type": "execute_result"
    }
   ],
   "source": [
    "session.run('''\n",
    "CALL gds.fastRP.mutate('ratings',\n",
    "  {\n",
    "    embeddingDimension: 256,\n",
    "    randomSeed: 7474,\n",
    "    mutateProperty: 'embedding',\n",
    "    relationshipWeightProperty: 'rating',\n",
    "    iterationWeights: [0.8, 1, 1, 1]\n",
    "  }\n",
    ")\n",
    "YIELD nodePropertiesWritten\n",
    "''')"
   ]
  },
  {
   "cell_type": "code",
   "execution_count": 16,
   "metadata": {},
   "outputs": [
    {
     "name": "stdout",
     "output_type": "stream",
     "text": [
      "[{'nodesCompared': 20094, 'relationshipsWritten': 100470, 'meanSimilarity': 0.971254386761372}]\n"
     ]
    }
   ],
   "source": [
    "result = session.run('''\n",
    "    CALL gds.knn.write('ratings', {\n",
    "    topK: 5,\n",
    "    nodeProperties: ['embedding'],\n",
    "    randomSeed: 42,\n",
    "    concurrency: 1,\n",
    "    sampleRate: 1.0,\n",
    "    deltaThreshold: 0.0,\n",
    "    writeRelationshipType: \"SIMILAR\",\n",
    "    writeProperty: \"score\"\n",
    "})\n",
    "YIELD nodesCompared, relationshipsWritten, similarityDistribution\n",
    "RETURN nodesCompared, relationshipsWritten, similarityDistribution.mean as meanSimilarity\n",
    "''').to_df()\n",
    "print(result)"
   ]
  },
  {
   "cell_type": "code",
   "execution_count": 4,
   "metadata": {},
   "outputs": [
    {
     "name": "stdout",
     "output_type": "stream",
     "text": [
      "    person1  person2  similarity\n",
      "0   user126  user379    0.989916\n",
      "1   user126  user379    0.989916\n",
      "2   user379  user126    0.989916\n",
      "3   user379  user126    0.989916\n",
      "4   user130  user574    0.987372\n",
      "..      ...      ...         ...\n",
      "95  user584  user321    0.980616\n",
      "96  user569  user126    0.980614\n",
      "97  user569  user126    0.980614\n",
      "98  user145   user46    0.980519\n",
      "99  user145   user46    0.980519\n",
      "\n",
      "[100 rows x 3 columns]\n"
     ]
    }
   ],
   "source": [
    "similar_user = session.run('''\n",
    "    MATCH (n:User)-[r:SIMILAR]->(m:User)\n",
    "    RETURN n.id as person1, m.id as person2, r.score as similarity\n",
    "    ORDER BY similarity DESCENDING, person1, person2 limit 100\n",
    "''').to_df()\n",
    "print(similar_user)"
   ]
  },
  {
   "cell_type": "markdown",
   "metadata": {},
   "source": [
    "### Recommendation"
   ]
  },
  {
   "cell_type": "code",
   "execution_count": 5,
   "metadata": {},
   "outputs": [
    {
     "name": "stdout",
     "output_type": "stream",
     "text": [
      "    userId                      movieTitle      similarUserIds     u  \\\n",
      "0  user126                    Pretty Woman  [user379, user379]  (id)   \n",
      "1  user126                    Pretty Woman  [user379, user379]  (id)   \n",
      "2  user126                           Ghost  [user379, user379]  (id)   \n",
      "3  user126                           Ghost  [user379, user379]  (id)   \n",
      "4  user126            Sleepless in Seattle  [user379, user379]  (id)   \n",
      "5  user126            Sleepless in Seattle  [user379, user379]  (id)   \n",
      "6  user126                Schindler's List  [user379, user379]  (id)   \n",
      "7  user126                Schindler's List  [user379, user379]  (id)   \n",
      "8  user126  Ace Ventura: When Nature Calls  [user379, user379]  (id)   \n",
      "9  user126  Ace Ventura: When Nature Calls  [user379, user379]  (id)   \n",
      "\n",
      "                                   m similarUser  \n",
      "0  (tmdbId, year, imdbId, id, title)        (id)  \n",
      "1  (tmdbId, year, imdbId, id, title)        (id)  \n",
      "2  (tmdbId, year, imdbId, id, title)        (id)  \n",
      "3  (tmdbId, year, imdbId, id, title)        (id)  \n",
      "4  (tmdbId, year, imdbId, id, title)        (id)  \n",
      "5  (tmdbId, year, imdbId, id, title)        (id)  \n",
      "6  (tmdbId, year, imdbId, id, title)        (id)  \n",
      "7  (tmdbId, year, imdbId, id, title)        (id)  \n",
      "8  (tmdbId, year, imdbId, id, title)        (id)  \n",
      "9  (tmdbId, year, imdbId, id, title)        (id)  \n"
     ]
    },
    {
     "data": {
      "application/vnd.jupyter.widget-view+json": {
       "model_id": "3ea27626777a4b66810d52e0b120f4b5",
       "version_major": 2,
       "version_minor": 0
      },
      "text/plain": [
       "GraphWidget(layout=Layout(height='500px', width='100%'))"
      ]
     },
     "metadata": {},
     "output_type": "display_data"
    }
   ],
   "source": [
    "user_recommendation = session.run('''\n",
    "    MATCH (u:User {id: 'user126'})\n",
    "    MATCH (u)-[:SIMILAR]->(similarUser)-[:RATED]->(m:Movie)\n",
    "    WHERE NOT EXISTS((u)-[:RATED]->(m))\n",
    "    RETURN u.id AS userId, m.title AS movieTitle, COLLECT(similarUser.id) AS similarUserIds, u, m, similarUser\n",
    "    LIMIT 10\n",
    "''')\n",
    "print(user_recommendation.to_df())\n",
    "\n",
    "w = GraphWidget(graph = user_recommendation.graph())\n",
    "w.show()"
   ]
  },
  {
   "cell_type": "code",
   "execution_count": null,
   "metadata": {},
   "outputs": [],
   "source": []
  }
 ],
 "metadata": {
  "kernelspec": {
   "display_name": "Python 3",
   "language": "python",
   "name": "python3"
  },
  "language_info": {
   "codemirror_mode": {
    "name": "ipython",
    "version": 3
   },
   "file_extension": ".py",
   "mimetype": "text/x-python",
   "name": "python",
   "nbconvert_exporter": "python",
   "pygments_lexer": "ipython3",
   "version": "3.10.9"
  }
 },
 "nbformat": 4,
 "nbformat_minor": 1
}
